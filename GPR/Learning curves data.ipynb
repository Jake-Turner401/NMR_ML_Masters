{
 "cells": [
  {
   "cell_type": "code",
   "execution_count": 1,
   "metadata": {},
   "outputs": [],
   "source": [
    "#Generation of learning curve data\n",
    "\n",
    "import utils\n",
    "from numpy.linalg import lstsq\n",
    "\n",
    "import sklearn\n",
    "from sklearn.metrics import mean_squared_error\n",
    "\n",
    "import pandas as pd\n",
    "from pandas import DataFrame\n",
    "\n",
    "import matplotlib.pyplot as plt\n",
    "\n"
   ]
  },
  {
   "cell_type": "code",
   "execution_count": 9,
   "metadata": {},
   "outputs": [],
   "source": [
    "def model_accuracy(cat, cut, smo_cut, sp_size, ker_exp, reg, tr_size):\n",
    "\n",
    "    keys = utils.keys_grabber(cat)\n",
    "    #keys = [2]\n",
    "    soap = utils.descriptor(cut, smo_cut)\n",
    "    full_spec, iso= utils.puller(keys, soap, cat)\n",
    "    \n",
    "    sp_sp, tr_sp, tr_ta, te_sp, te_ta = utils.splitter(tr_size, sp_size, full_spec, iso)\n",
    "    \n",
    "    KNM = utils.kerneller(tr_sp, sp_sp, ker_exp)\n",
    "    KMM = utils.kerneller(sp_sp, sp_sp, ker_exp)\n",
    "    KTM = utils.kerneller(te_sp, sp_sp, ker_exp)\n",
    "    res = lstsq(KNM.T @ KNM + reg * KMM, KNM.T @ tr_ta, rcond=None)\n",
    "    c = res[0]\n",
    "    pred = KTM @ c\n",
    "    rmse = mean_squared_error(te_ta, pred, squared=False)\n",
    "\n",
    "    \n",
    "    return te_ta, pred, rmse\n",
    "\n",
    "def species_splitter(target, predicted):\n",
    "    ids_o = []\n",
    "    ids_si = []\n",
    "\n",
    "    for i in enumerate(target):\n",
    "        if i[1] < 350:\n",
    "            ids_o.append(i[0])\n",
    "        else:\n",
    "            ids_si.append(i[0])\n",
    "            \n",
    "    o_tar = target[ids_o]\n",
    "    o_pred = predicted[ids_o]\n",
    "    \n",
    "    si_tar = target[ids_si]\n",
    "    si_pred = predicted[ids_si]\n",
    "    \n",
    "    return o_tar, si_tar, o_pred, si_pred"
   ]
  },
  {
   "cell_type": "code",
   "execution_count": 58,
   "metadata": {},
   "outputs": [
    {
     "name": "stdout",
     "output_type": "stream",
     "text": [
      "1000\n",
      "2000\n",
      "3000\n",
      "4000\n",
      "5000\n",
      "6000\n"
     ]
    }
   ],
   "source": [
    "#Rattle\n",
    "cat = 'AM300K'\n",
    "cut = 3.5\n",
    "smo_cut = 1\n",
    "sp_size = 1000\n",
    "ker_exp = 25\n",
    "reg = 1*10**-8\n",
    "\n",
    "tr_sizes = range(1000,6001,1000)\n",
    "o_rmses = []\n",
    "si_rmses = []\n",
    "\n",
    "\n",
    "\n",
    "for i in tr_sizes:\n",
    "    print(i)\n",
    "    counter = 0\n",
    "    temp_o = []\n",
    "    temp_si = []\n",
    "    \n",
    "    while counter < 25:   \n",
    "\n",
    "        target, predicted, rmse = model_accuracy(cat, cut, smo_cut, sp_size, ker_exp, reg, i)\n",
    "        o_tar, si_tar, o_pred, si_pred = species_splitter(target, predicted)\n",
    "\n",
    "        temp_o.append(mean_squared_error(o_tar, o_pred, squared=False))\n",
    "        \n",
    "        temp_si.append(mean_squared_error(si_tar, si_pred, squared=False))\n",
    "        counter += 1\n",
    "        \n",
    "   \n",
    "    o_rmses.append(sum(temp_o)/len(temp_o))\n",
    "    si_rmses.append(sum(temp_si)/len(temp_si))\n",
    "\n",
    "df = pd.DataFrame()\n",
    "df['train sizes'] = tr_sizes\n",
    "df['o rmse'] = o_rmses\n",
    "df['si rmse'] = si_rmses\n",
    "df.to_csv('Learning_curves_split_' +cat+'.csv')"
   ]
  },
  {
   "cell_type": "code",
   "execution_count": 3,
   "metadata": {},
   "outputs": [
    {
     "name": "stdout",
     "output_type": "stream",
     "text": [
      "2.9303421710118944\n",
      "2.9303421710118944\n"
     ]
    }
   ],
   "source": [
    "#Rattle\n",
    "cat = 'HypoZeo'\n",
    "cut = 3.5\n",
    "smo_cut = 1\n",
    "sp_size = 1000\n",
    "ker_exp = 25\n",
    "reg = 1*10**-8\n",
    "target, predicted, rmse = model_accuracy('HypoZeo', cut, 1, sp_size, ker_exp, reg)\n",
    "print(mean_squared_error(target,predicted, squared=False))\n",
    "print(rmse)"
   ]
  },
  {
   "cell_type": "code",
   "execution_count": 99,
   "metadata": {},
   "outputs": [
    {
     "data": {
      "text/plain": [
       "2.8226232082117217"
      ]
     },
     "execution_count": 99,
     "metadata": {},
     "output_type": "execute_result"
    }
   ],
   "source": [
    "mean_squared_error(target,predicted,squared=False)\n",
    "#len(target)"
   ]
  }
 ],
 "metadata": {
  "kernelspec": {
   "display_name": "Python 3",
   "language": "python",
   "name": "python3"
  },
  "language_info": {
   "codemirror_mode": {
    "name": "ipython",
    "version": 3
   },
   "file_extension": ".py",
   "mimetype": "text/x-python",
   "name": "python",
   "nbconvert_exporter": "python",
   "pygments_lexer": "ipython3",
   "version": "3.8.5"
  }
 },
 "nbformat": 4,
 "nbformat_minor": 4
}
