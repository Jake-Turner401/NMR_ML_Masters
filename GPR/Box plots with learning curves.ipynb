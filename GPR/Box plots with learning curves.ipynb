{
 "cells": [
  {
   "cell_type": "code",
   "execution_count": 1,
   "metadata": {},
   "outputs": [],
   "source": [
    "import utils\n",
    "import rascal\n",
    "from rascal.representations import SphericalInvariants as SOAP\n",
    "\n",
    "import ase\n",
    "from ase import io\n",
    "#from ase import atoms\n",
    "\n",
    "import pickle\n",
    "import os\n",
    "import numpy as np\n",
    "import matplotlib.pyplot as plt\n",
    "\n",
    "import soprano\n",
    "from soprano.properties.nmr import *\n",
    "\n",
    "import random\n",
    "\n",
    "import soprano\n",
    "from soprano.properties.nmr import *\n",
    "\n",
    "import sklearn\n",
    "from sklearn.gaussian_process import GaussianProcessRegressor\n",
    "from sklearn.metrics import mean_squared_error\n",
    "from sklearn.metrics import r2_score\n",
    "\n",
    "from numpy.linalg import lstsq\n",
    "\n",
    "import pandas as pd\n",
    "from pandas import DataFrame"
   ]
  },
  {
   "cell_type": "code",
   "execution_count": 9,
   "metadata": {},
   "outputs": [],
   "source": [
    "def model_maker(cat, cut, smo_cut, sp_size, ker_exp, reg, tr_no):\n",
    "    for i in cat:\n",
    "        if cat.index(i) == 0:\n",
    "            keys = utils.keys_grabber(i)\n",
    "            soap = utils.descriptor(cut, smo_cut)\n",
    "            full_spec, iso = utils.puller(keys, soap, i)\n",
    "        else:\n",
    "            keys = utils.keys_grabber(i)\n",
    "            soap = utils.descriptor(cut, smo_cut)\n",
    "            full_spec_t, iso_t = utils.puller(keys, soap, i)\n",
    "            full_spec = np.concatenate((full_spec, full_spec_t))\n",
    "            iso = np.concatenate((iso, iso_t))\n",
    "    sp_sp, tr_sp, tr_ta, te_sp, te_ta = utils.splitter(tr_no, sp_size, full_spec, iso)\n",
    "    \n",
    "    KNM = utils.kerneller(tr_sp, sp_sp, ker_exp)\n",
    "    KMM = utils.kerneller(sp_sp, sp_sp, ker_exp)\n",
    "    res = lstsq(KNM.T @ KNM + reg * KMM, KNM.T @ tr_ta, rcond=None)\n",
    "    c = res[0]\n",
    "    \n",
    "    return c, sp_sp\n",
    "\n",
    "def predictor(cat, cut, smo_cut, ker_exp, reg, c, sp_sp):\n",
    "    keys = utils.keys_grabber(cat)\n",
    "    soap = utils.descriptor(cut, smo_cut)\n",
    "    full_spec, iso = utils.puller(keys, soap, cat)\n",
    "    KTM = utils.kerneller(full_spec, sp_sp, ker_exp)\n",
    "    pred = KTM @ c\n",
    "    rmse = mean_squared_error(iso, pred, squared=False)\n",
    "    return iso, pred, rmse\n",
    "\n",
    "def species_splitter(target, predicted):\n",
    "    o_tar = []\n",
    "    o_pred = []\n",
    "    si_tar = []\n",
    "    si_pred = []\n",
    "    for i in target:\n",
    "        if i < 350:\n",
    "            o_tar.append(i)\n",
    "        else:\n",
    "            si_tar.append(i)\n",
    "    for i in predicted:\n",
    "        if i < 350:\n",
    "            o_pred.append(i)\n",
    "        else:\n",
    "            si_pred.append(i)\n",
    "    return o_tar, si_tar, o_pred, si_pred"
   ]
  },
  {
   "cell_type": "code",
   "execution_count": 4,
   "metadata": {},
   "outputs": [],
   "source": [
    "#Params\n",
    "cat = ['Rattle','HypoZeo']\n",
    "cut = 3.5\n",
    "smo_cut = 1\n",
    "sp_size = 1000\n",
    "ker_exp = 20\n",
    "reg = 1*10**-8"
   ]
  },
  {
   "cell_type": "code",
   "execution_count": 34,
   "metadata": {},
   "outputs": [
    {
     "name": "stdout",
     "output_type": "stream",
     "text": [
      "1000\n",
      "3000\n",
      "5000\n",
      "7000\n",
      "9000\n",
      "11000\n",
      "13000\n"
     ]
    }
   ],
   "source": [
    "df_o = pd.DataFrame()\n",
    "df_si = pd.DataFrame()\n",
    "rmses = []\n",
    "tr_no = range(1000,15000,2000)\n",
    "for i in tr_no:\n",
    "    counter = 0\n",
    "    print(i)\n",
    "    while counter < 10:\n",
    "        temp = []\n",
    "        c, sp_sp = model_maker(cat, cut, smo_cut, sp_size, ker_exp, reg, i)\n",
    "        tar, pred, rmse = predictor('Polymorphs', cut, smo_cut, ker_exp, reg, c, sp_sp)\n",
    "        o_tar, si_tar, o_pred, si_pred = species_splitter(tar, pred)\n",
    "        temp.append(rmse)\n",
    "        counter += 1\n",
    "\n",
    "    #n.b this currently runs on last set not all\n",
    "    df_temp = pd.DataFrame()\n",
    "    df_temp['a'] = o_pred\n",
    "    df_temp['b'] = o_tar\n",
    "    df_o['error' + str(i)] = df_temp['a'] - df_temp['b']\n",
    "    df_temp = pd.DataFrame()\n",
    "    df_temp['a'] = si_pred\n",
    "    df_temp['b'] = si_tar\n",
    "    df_si['error' + str(i)] = df_temp['a'] - df_temp['b']\n",
    "    rmses.append(sum(temp)/len(temp))"
   ]
  },
  {
   "cell_type": "code",
   "execution_count": 36,
   "metadata": {},
   "outputs": [
    {
     "data": {
      "text/plain": [
       "[<matplotlib.lines.Line2D at 0x7f0d84547a30>]"
      ]
     },
     "execution_count": 36,
     "metadata": {},
     "output_type": "execute_result"
    },
    {
     "data": {
      "image/png": "[encoded data removed]",
      "text/plain": [
       "<Figure size 432x288 with 1 Axes>"
      ]
     },
     "metadata": {
      "needs_background": "light"
     },
     "output_type": "display_data"
    }
   ],
   "source": [
    "plt.plot(tr_no, rmses)"
   ]
  },
  {
   "cell_type": "code",
   "execution_count": 45,
   "metadata": {},
   "outputs": [
    {
     "data": {
      "image/png": "[encoded data removed]",
      "text/plain": [
       "<Figure size 432x288 with 1 Axes>"
      ]
     },
     "metadata": {
      "needs_background": "light"
     },
     "output_type": "display_data"
    }
   ],
   "source": [
    "tr_no = list(tr_no)\n",
    "for i in tr_no:\n",
    "    plt.boxplot(df_o['error' + str(i)], positions = [tr_no.index(i)],\n",
    "               labels=[str(i)],sym='')"
   ]
  },
  {
   "cell_type": "code",
   "execution_count": 57,
   "metadata": {},
   "outputs": [
    {
     "name": "stdout",
     "output_type": "stream",
     "text": [
      "0\n",
      "1000\n",
      "2000\n",
      "3000\n",
      "4000\n",
      "5000\n",
      "6000\n",
      "7000\n"
     ]
    }
   ],
   "source": [
    "#Aim to mix dataset from entirely HypoZeo to entirely Rattle\n",
    "#and plot an accuracy curve and then do box plots.\n",
    "cat = 'Rattle'\n",
    "keys = utils.keys_grabber(cat)\n",
    "soap = utils.descriptor(cut, smo_cut)\n",
    "full_spec_r, iso_r = utils.puller(keys, soap, cat)\n",
    "\n",
    "cat = 'HypoZeo'\n",
    "keys = utils.keys_grabber(cat)\n",
    "soap = utils.descriptor(cut, smo_cut)\n",
    "full_spec_h, iso_h = utils.puller(keys, soap, cat)\n",
    "\n",
    "sample_size = range(0,7001,1000)\n",
    "rmses = []\n",
    "for i in sample_size:\n",
    "    print(i)\n",
    "    counter = 0\n",
    "    temp = []\n",
    "    while counter < 10:\n",
    "    \n",
    "        tr_id_r = random.sample(range(len(full_spec_r)),i)\n",
    "        tr_id_h = random.sample(range(len(full_spec_h)),7000-i)\n",
    "\n",
    "        tr_sp_r = full_spec_r[tr_id_r]\n",
    "        tr_sp_h = full_spec_h[tr_id_h]\n",
    "        tr_ta_r = iso_r[tr_id_r]\n",
    "        tr_ta_h = iso_h[tr_id_h]\n",
    "        full_spec = np.concatenate((tr_sp_h, tr_sp_r))\n",
    "        iso = np.concatenate((tr_ta_h,tr_ta_r))\n",
    "\n",
    "        sp_sp, tr_sp, tr_ta, te_sp, te_ta = utils.splitter(7000, 1000, full_spec, iso)\n",
    "\n",
    "        KNM = utils.kerneller(tr_sp, sp_sp, ker_exp)\n",
    "        KMM = utils.kerneller(sp_sp, sp_sp, ker_exp)\n",
    "        res = lstsq(KNM.T @ KNM + reg * KMM, KNM.T @ tr_ta, rcond=None)\n",
    "        c = res[0]    \n",
    "\n",
    "        tar, pred, rmse = predictor('Polymorphs', cut, smo_cut, ker_exp, reg, c, sp_sp)\n",
    "        temp.append(rmse)\n",
    "        o_tar, si_tar, o_pred, si_pred = species_splitter(tar, pred)\n",
    "        counter += 1\n",
    "        \n",
    "        \n",
    "    rmses.append(sum(temp)/len(temp))\n",
    "    #n.b this currently runs on last set not all\n",
    "    df_temp = pd.DataFrame()\n",
    "    df_temp['a'] = o_pred\n",
    "    df_temp['b'] = o_tar\n",
    "    df_o['error' + str(i)] = df_temp['a'] - df_temp['b']\n",
    "    df_temp = pd.DataFrame()\n",
    "    df_temp['a'] = si_pred\n",
    "    df_temp['b'] = si_tar\n",
    "    df_si['error' + str(i)] = df_temp['a'] - df_temp['b']"
   ]
  },
  {
   "cell_type": "code",
   "execution_count": 68,
   "metadata": {},
   "outputs": [
    {
     "data": {
      "text/plain": [
       "[<matplotlib.lines.Line2D at 0x7f0d83bc5c10>]"
      ]
     },
     "execution_count": 68,
     "metadata": {},
     "output_type": "execute_result"
    },
    {
     "data": {
      "image/png": "[encoded data removed]",
      "text/plain": [
       "<Figure size 432x288 with 1 Axes>"
      ]
     },
     "metadata": {
      "needs_background": "light"
     },
     "output_type": "display_data"
    }
   ],
   "source": [
    "plt.plot(sample_size, rmses)\n",
    "#n.b right is 100% Rattle and left is 100% HypoZeo\n",
    "#need to do a species split\n",
    "#plt.ylim(2,4)"
   ]
  },
  {
   "cell_type": "code",
   "execution_count": 67,
   "metadata": {},
   "outputs": [
    {
     "data": {
      "image/png": "[encoded data removed]",
      "text/plain": [
       "<Figure size 432x288 with 1 Axes>"
      ]
     },
     "metadata": {
      "needs_background": "light"
     },
     "output_type": "display_data"
    }
   ],
   "source": [
    "sample_size = list(sample_size)\n",
    "for i in sample_size:\n",
    "    plt.boxplot(df_o['error' + str(i)], positions = [sample_size.index(i)],\n",
    "               labels=[str(i)],sym='')"
   ]
  }
 ],
 "metadata": {
  "kernelspec": {
   "display_name": "Python 3",
   "language": "python",
   "name": "python3"
  },
  "language_info": {
   "codemirror_mode": {
    "name": "ipython",
    "version": 3
   },
   "file_extension": ".py",
   "mimetype": "text/x-python",
   "name": "python",
   "nbconvert_exporter": "python",
   "pygments_lexer": "ipython3",
   "version": "3.8.5"
  }
 },
 "nbformat": 4,
 "nbformat_minor": 4
}
