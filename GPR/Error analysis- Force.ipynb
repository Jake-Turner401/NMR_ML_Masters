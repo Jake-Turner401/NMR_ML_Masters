{
 "cells": [
  {
   "cell_type": "code",
   "execution_count": 44,
   "metadata": {},
   "outputs": [],
   "source": [
    "#Plotting scatter of force on atom and prediction accuracy\n",
    "\n",
    "import ase\n",
    "from ase import io\n",
    "from ase.geometry.analysis import Analysis\n",
    "\n",
    "import rascal\n",
    "from rascal.representations import SphericalInvariants as SOAP\n",
    "\n",
    "import ase\n",
    "from ase import io\n",
    "#from ase import atoms\n",
    "\n",
    "import pickle\n",
    "import os\n",
    "import numpy as np\n",
    "import matplotlib.pyplot as plt\n",
    "\n",
    "import soprano\n",
    "from soprano.properties.nmr import *\n",
    "\n",
    "import random\n",
    "\n",
    "import soprano\n",
    "from soprano.properties.nmr import *\n",
    "\n",
    "import sklearn\n",
    "from sklearn.gaussian_process import GaussianProcessRegressor\n",
    "from sklearn.metrics import mean_squared_error\n",
    "from sklearn.metrics import r2_score\n",
    "\n",
    "from numpy.linalg import lstsq\n",
    "\n",
    "import pandas as pd\n",
    "from pandas import DataFrame\n",
    "import utils"
   ]
  },
  {
   "cell_type": "code",
   "execution_count": 45,
   "metadata": {},
   "outputs": [],
   "source": [
    "def keys_grabber(category):\n",
    "    keys = list(pickle.load(open('Data/' + category + '/uid_index.pkl','rb')).keys())\n",
    "    for i in keys:\n",
    "        if not os.path.exists('Data/'+category+'/' + str(i) + '.magres'):\n",
    "            keys.remove(i)\n",
    "    return keys\n",
    "\n",
    "def descriptor(cut, smooth):\n",
    "    HYPERS = {\n",
    "    'soap_type': 'PowerSpectrum',\n",
    "    'interaction_cutoff': cut,\n",
    "    'max_radial': 2,\n",
    "    'max_angular': 6,\n",
    "    'gaussian_sigma_constant': 0.5,\n",
    "    'gaussian_sigma_type': 'Constant',\n",
    "    'cutoff_smooth_width': smooth,\n",
    "    'radial_basis': 'GTO',\n",
    "    'inversion_symmetry': True,\n",
    "    'normalize' : True\n",
    "    }\n",
    "    soap = SOAP(**HYPERS)\n",
    "    return soap\n",
    "\n",
    "\n",
    "def puller(keys, soap, category):\n",
    "    #reading in all structures and creating all spectrums.\n",
    "    for i in keys:\n",
    "        #print(i)\n",
    "        if keys.index(i) == 0:\n",
    "            structure = ase.io.read('Data/' + category +'/'+str(i)+'.magres')\n",
    "            spectrum = soap.transform(structure).get_features(soap)\n",
    "            full_spec = spectrum\n",
    "            iso = MSIsotropy.get(structure)\n",
    "            structure = ase.io.read('Data/' + category +'/'+str(i)+'.castep')\n",
    "            force = np.array(list(map(np.linalg.norm, structure.get_forces())))\n",
    "        else:\n",
    "            structure = ase.io.read('Data/' + category +'/'+str(i)+'.magres')\n",
    "            spectrum = soap.transform(structure).get_features(soap)\n",
    "            full_spec = np.concatenate((full_spec,spectrum),axis =0)\n",
    "            iso = np.concatenate((iso,MSIsotropy.get(structure)),axis=0)\n",
    "            structure = ase.io.read('Data/' + category +'/'+str(i)+'.castep')\n",
    "            temp = np.array(list(map(np.linalg.norm, structure.get_forces())))\n",
    "            force = np.concatenate((force,temp), axis=0)\n",
    "\n",
    "    return full_spec, iso, force\n",
    "\n",
    "\n",
    "def splitter(tr_f, no_sparse, full_spec, iso, force):\n",
    "    #Randomly choosing representative matrix\n",
    "    ids = range(len(full_spec)) #list of all ids\n",
    "    tr_id = random.sample(ids, int(tr_f*len(full_spec)))\n",
    "    sp_id = random.sample(tr_id, no_sparse)\n",
    "\n",
    "    tr_sp = full_spec[tr_id] #training spectrums\n",
    "    sp_sp = full_spec[sp_id] #representative/sparse spectrums\n",
    "\n",
    "    tr_ta = iso[tr_id] #training target\n",
    "    \n",
    "    te_id = list(ids)\n",
    "    for i in tr_id:\n",
    "        te_id.remove(i)\n",
    "    te_sp = full_spec[te_id]\n",
    "    te_ta = iso[te_id]\n",
    "    \n",
    "    te_fo = force[te_id]\n",
    "    \n",
    "    return sp_sp, tr_sp, tr_ta, te_sp, te_ta, te_fo \n",
    "    \n",
    "    \n",
    "def kerneller(to_kernel, sp_sp, ker_exp):\n",
    "    kernel = (to_kernel@sp_sp.T)**ker_exp\n",
    "    return kernel"
   ]
  },
  {
   "cell_type": "code",
   "execution_count": 46,
   "metadata": {},
   "outputs": [],
   "source": [
    "def model_accuracy(cat, cut, smo_cut, sp_size, ker_exp, reg):\n",
    "\n",
    "    keys = keys_grabber(cat)\n",
    "    #keys = [2]\n",
    "    soap = descriptor(cut, smo_cut)\n",
    "    full_spec, iso, force = puller(keys, soap, cat)\n",
    "    \n",
    "    sp_sp, tr_sp, tr_ta, te_sp, te_ta, te_fo = splitter(0.9, sp_size, full_spec, iso, force)\n",
    "    \n",
    "    KNM = kerneller(tr_sp, sp_sp, ker_exp)\n",
    "    KMM = kerneller(sp_sp, sp_sp, ker_exp)\n",
    "    KTM = kerneller(te_sp, sp_sp, ker_exp)\n",
    "    res = lstsq(KNM.T @ KNM + reg * KMM, KNM.T @ tr_ta, rcond=None)\n",
    "    c = res[0]\n",
    "    pred = KTM @ c\n",
    "    rmse = mean_squared_error(te_ta, pred, squared=False)\n",
    "\n",
    "    \n",
    "    return te_ta, pred, rmse, te_fo"
   ]
  },
  {
   "cell_type": "code",
   "execution_count": 77,
   "metadata": {},
   "outputs": [
    {
     "name": "stderr",
     "output_type": "stream",
     "text": [
      "/home/turner/.local/lib/python3.8/site-packages/ase/calculators/castep.py:1460: UserWarning: Could not load .bands file, eigenvalues and Fermi energy are unknown\n",
      "  warnings.warn('Could not load .bands file, eigenvalues and '\n"
     ]
    }
   ],
   "source": [
    "#Rattle - Forces\n",
    "cut = 3.5\n",
    "smo_cut = 1\n",
    "sp_size = 1000\n",
    "ker_exp = 20\n",
    "reg = 1*10**-8\n",
    "\n",
    "te_ta, predicted, rmse, te_fo = model_accuracy('AM300K', cut, smo_cut, sp_size, ker_exp, reg)"
   ]
  },
  {
   "cell_type": "code",
   "execution_count": 78,
   "metadata": {},
   "outputs": [
    {
     "data": {
      "text/html": [
       "<div>\n",
       "<style scoped>\n",
       "    .dataframe tbody tr th:only-of-type {\n",
       "        vertical-align: middle;\n",
       "    }\n",
       "\n",
       "    .dataframe tbody tr th {\n",
       "        vertical-align: top;\n",
       "    }\n",
       "\n",
       "    .dataframe thead th {\n",
       "        text-align: right;\n",
       "    }\n",
       "</style>\n",
       "<table border=\"1\" class=\"dataframe\">\n",
       "  <thead>\n",
       "    <tr style=\"text-align: right;\">\n",
       "      <th></th>\n",
       "      <th>tar</th>\n",
       "      <th>pred</th>\n",
       "      <th>error</th>\n",
       "      <th>force</th>\n",
       "    </tr>\n",
       "  </thead>\n",
       "  <tbody>\n",
       "    <tr>\n",
       "      <th>0</th>\n",
       "      <td>209.295840</td>\n",
       "      <td>208.490495</td>\n",
       "      <td>0.805345</td>\n",
       "      <td>2.973642</td>\n",
       "    </tr>\n",
       "    <tr>\n",
       "      <th>1</th>\n",
       "      <td>227.637331</td>\n",
       "      <td>226.898114</td>\n",
       "      <td>0.739217</td>\n",
       "      <td>0.428844</td>\n",
       "    </tr>\n",
       "    <tr>\n",
       "      <th>2</th>\n",
       "      <td>221.548631</td>\n",
       "      <td>224.298220</td>\n",
       "      <td>2.749589</td>\n",
       "      <td>1.268017</td>\n",
       "    </tr>\n",
       "    <tr>\n",
       "      <th>3</th>\n",
       "      <td>231.860626</td>\n",
       "      <td>227.125558</td>\n",
       "      <td>4.735068</td>\n",
       "      <td>1.697138</td>\n",
       "    </tr>\n",
       "    <tr>\n",
       "      <th>4</th>\n",
       "      <td>215.341071</td>\n",
       "      <td>216.574563</td>\n",
       "      <td>1.233491</td>\n",
       "      <td>1.357333</td>\n",
       "    </tr>\n",
       "  </tbody>\n",
       "</table>\n",
       "</div>"
      ],
      "text/plain": [
       "          tar        pred     error     force\n",
       "0  209.295840  208.490495  0.805345  2.973642\n",
       "1  227.637331  226.898114  0.739217  0.428844\n",
       "2  221.548631  224.298220  2.749589  1.268017\n",
       "3  231.860626  227.125558  4.735068  1.697138\n",
       "4  215.341071  216.574563  1.233491  1.357333"
      ]
     },
     "execution_count": 78,
     "metadata": {},
     "output_type": "execute_result"
    }
   ],
   "source": [
    "df = pd.DataFrame()\n",
    "df['tar'] = te_ta\n",
    "df['pred'] = predicted\n",
    "df['error'] = abs(df['tar'] - df['pred'])\n",
    "df['force'] = te_fo\n",
    "df.head()\n",
    "#df.to_csv('AM300K_force_error.csv')"
   ]
  },
  {
   "cell_type": "code",
   "execution_count": 79,
   "metadata": {},
   "outputs": [
    {
     "data": {
      "text/plain": [
       "1.8983574354026933"
      ]
     },
     "execution_count": 79,
     "metadata": {},
     "output_type": "execute_result"
    }
   ],
   "source": [
    "sum(te_fo)/len(te_fo)"
   ]
  },
  {
   "cell_type": "code",
   "execution_count": 80,
   "metadata": {},
   "outputs": [
    {
     "data": {
      "text/plain": [
       "Text(0, 0.5, 'Abs error')"
      ]
     },
     "execution_count": 80,
     "metadata": {},
     "output_type": "execute_result"
    },
    {
     "data": {
      "image/png": "[encoded data removed]",
      "text/plain": [
       "<Figure size 432x288 with 1 Axes>"
      ]
     },
     "metadata": {
      "needs_background": "light"
     },
     "output_type": "display_data"
    }
   ],
   "source": [
    "plt.plot(sum(te_fo)/len(te_fo),df['error'].mean(), color='black', marker='x')\n",
    "plt.scatter(te_fo, df['error'])\n",
    "\n",
    "plt.xlabel('Force')\n",
    "plt.ylabel('Abs error')\n",
    "#Why would highest error be at low force?"
   ]
  },
  {
   "cell_type": "code",
   "execution_count": null,
   "metadata": {},
   "outputs": [],
   "source": []
  },
  {
   "cell_type": "code",
   "execution_count": null,
   "metadata": {},
   "outputs": [],
   "source": []
  },
  {
   "cell_type": "code",
   "execution_count": null,
   "metadata": {},
   "outputs": [],
   "source": []
  },
  {
   "cell_type": "code",
   "execution_count": null,
   "metadata": {},
   "outputs": [],
   "source": [
    "#angles"
   ]
  }
 ],
 "metadata": {
  "kernelspec": {
   "display_name": "Python 3",
   "language": "python",
   "name": "python3"
  },
  "language_info": {
   "codemirror_mode": {
    "name": "ipython",
    "version": 3
   },
   "file_extension": ".py",
   "mimetype": "text/x-python",
   "name": "python",
   "nbconvert_exporter": "python",
   "pygments_lexer": "ipython3",
   "version": "3.8.5"
  }
 },
 "nbformat": 4,
 "nbformat_minor": 4
}
