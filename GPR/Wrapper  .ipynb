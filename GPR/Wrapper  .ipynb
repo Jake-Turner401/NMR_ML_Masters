{
 "cells": [
  {
   "cell_type": "code",
   "execution_count": 33,
   "metadata": {},
   "outputs": [],
   "source": [
    "#Satisfying PBC\n",
    "\n",
    "import ase\n",
    "from ase import io\n",
    "import pickle"
   ]
  },
  {
   "cell_type": "code",
   "execution_count": 43,
   "metadata": {},
   "outputs": [],
   "source": [
    "cat = 'Amorphous'\n",
    "keys = list(pickle.load(open('Data/' + cat + '/uid_index.pkl','rb')).keys())\n",
    "for i in keys:\n",
    "    if not os.path.exists('Data/'+cat+'/' + str(i) + '.magres'):\n",
    "        keys.remove(i)\n",
    "\n",
    "for i in keys:\n",
    "    structure = ase.io.read('Data/Amorphous/' + str(i) + '.magres')\n",
    "    structure.wrap()\n",
    "    ase.io.write('Data/Amorphous2/' + str(i) + '.magres', structure)"
   ]
  }
 ],
 "metadata": {
  "kernelspec": {
   "display_name": "Python 3",
   "language": "python",
   "name": "python3"
  },
  "language_info": {
   "codemirror_mode": {
    "name": "ipython",
    "version": 3
   },
   "file_extension": ".py",
   "mimetype": "text/x-python",
   "name": "python",
   "nbconvert_exporter": "python",
   "pygments_lexer": "ipython3",
   "version": "3.8.5"
  }
 },
 "nbformat": 4,
 "nbformat_minor": 4
}
