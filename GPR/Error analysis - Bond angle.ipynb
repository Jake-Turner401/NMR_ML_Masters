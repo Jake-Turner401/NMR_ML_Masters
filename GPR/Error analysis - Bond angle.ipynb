{
 "cells": [
  {
   "cell_type": "code",
   "execution_count": 120,
   "metadata": {},
   "outputs": [],
   "source": [
    "#Plotting scatter of band angle and prediction error\n",
    "\n",
    "import ase\n",
    "from ase import io\n",
    "from ase.geometry.analysis import Analysis\n",
    "\n",
    "import rascal\n",
    "from rascal.representations import SphericalInvariants as SOAP\n",
    "\n",
    "import ase\n",
    "from ase import io\n",
    "#from ase import atoms\n",
    "\n",
    "import pickle\n",
    "import os\n",
    "import numpy as np\n",
    "import matplotlib.pyplot as plt\n",
    "\n",
    "import soprano\n",
    "from soprano.properties.nmr import *\n",
    "\n",
    "import random\n",
    "\n",
    "import soprano\n",
    "from soprano.properties.nmr import *\n",
    "\n",
    "import sklearn\n",
    "from sklearn.gaussian_process import GaussianProcessRegressor\n",
    "from sklearn.metrics import mean_squared_error\n",
    "from sklearn.metrics import r2_score\n",
    "\n",
    "from numpy.linalg import lstsq\n",
    "\n",
    "import pandas as pd\n",
    "from pandas import DataFrame\n",
    "import utils\n",
    "\n",
    "import itertools\n"
   ]
  },
  {
   "cell_type": "code",
   "execution_count": 121,
   "metadata": {},
   "outputs": [],
   "source": [
    "def keys_grabber(category):\n",
    "    keys = list(pickle.load(open('Data/' + category + '/uid_index.pkl','rb')).keys())\n",
    "    for i in keys:\n",
    "        if not os.path.exists('Data/'+category+'/' + str(i) + '.magres'):\n",
    "            keys.remove(i)\n",
    "    return keys\n",
    "\n",
    "def descriptor(cut, smooth):\n",
    "    HYPERS = {\n",
    "    'soap_type': 'PowerSpectrum',\n",
    "    'interaction_cutoff': cut,\n",
    "    'max_radial': 2,\n",
    "    'max_angular': 6,\n",
    "    'gaussian_sigma_constant': 0.5,\n",
    "    'gaussian_sigma_type': 'Constant',\n",
    "    'cutoff_smooth_width': smooth,\n",
    "    'radial_basis': 'GTO',\n",
    "    'inversion_symmetry': True,\n",
    "    'normalize' : True\n",
    "    }\n",
    "    soap = SOAP(**HYPERS)\n",
    "    return soap\n",
    "\n",
    "\n",
    "def puller(keys, soap, category):\n",
    "    #reading in all structures and creating all spectrums.\n",
    "    for i in keys:\n",
    "        #print(i)\n",
    "        if keys.index(i) == 0:\n",
    "            structure = ase.io.read('Data/' + category +'/'+str(i)+'.magres')\n",
    "            spectrum = soap.transform(structure).get_features(soap)\n",
    "            full_spec = spectrum\n",
    "            iso = MSIsotropy.get(structure)\n",
    "            structure = ase.io.read('Data/' + category +'/'+str(i)+'.castep')\n",
    "            force = np.array(list(map(np.linalg.norm, structure.get_forces())))\n",
    "        else:\n",
    "            structure = ase.io.read('Data/' + category +'/'+str(i)+'.magres')\n",
    "            spectrum = soap.transform(structure).get_features(soap)\n",
    "            full_spec = np.concatenate((full_spec,spectrum),axis =0)\n",
    "            iso = np.concatenate((iso,MSIsotropy.get(structure)),axis=0)\n",
    "            structure = ase.io.read('Data/' + category +'/'+str(i)+'.castep')\n",
    "            temp = np.array(list(map(np.linalg.norm, structure.get_forces())))\n",
    "            force = np.concatenate((force,temp), axis=0)\n",
    "\n",
    "    return full_spec, iso, force\n",
    "\n",
    "\n",
    "def splitter(tr_f, no_sparse, full_spec, iso, force):\n",
    "    #Randomly choosing representative matrix\n",
    "    ids = range(len(full_spec)) #list of all ids\n",
    "    tr_id = random.sample(ids, int(tr_f*len(full_spec)))\n",
    "    sp_id = random.sample(tr_id, no_sparse)\n",
    "\n",
    "    tr_sp = full_spec[tr_id] #training spectrums\n",
    "    sp_sp = full_spec[sp_id] #representative/sparse spectrums\n",
    "\n",
    "    tr_ta = iso[tr_id] #training target\n",
    "    \n",
    "    te_id = list(ids)\n",
    "    for i in tr_id:\n",
    "        te_id.remove(i)\n",
    "    te_sp = full_spec[te_id]\n",
    "    te_ta = iso[te_id]\n",
    "    \n",
    "    te_fo = force[te_id]\n",
    "    \n",
    "    return sp_sp, tr_sp, tr_ta, te_sp, te_ta, te_fo, te_id \n",
    "    \n",
    "    \n",
    "def kerneller(to_kernel, sp_sp, ker_exp):\n",
    "    kernel = (to_kernel@sp_sp.T)**ker_exp\n",
    "    return kernel"
   ]
  },
  {
   "cell_type": "code",
   "execution_count": 122,
   "metadata": {},
   "outputs": [],
   "source": [
    "def model_accuracy(cat, cut, smo_cut, sp_size, ker_exp, reg):\n",
    "\n",
    "    keys = keys_grabber(cat)\n",
    "    #keys = [2]\n",
    "    soap = descriptor(cut, smo_cut)\n",
    "    full_spec, iso, force = puller(keys, soap, cat)\n",
    "    \n",
    "    sp_sp, tr_sp, tr_ta, te_sp, te_ta, te_fo, te_id = splitter(0.9, sp_size, full_spec, iso, force)\n",
    "    \n",
    "    KNM = kerneller(tr_sp, sp_sp, ker_exp)\n",
    "    KMM = kerneller(sp_sp, sp_sp, ker_exp)\n",
    "    KTM = kerneller(te_sp, sp_sp, ker_exp)\n",
    "    res = lstsq(KNM.T @ KNM + reg * KMM, KNM.T @ tr_ta, rcond=None)\n",
    "    c = res[0]\n",
    "    pred = KTM @ c\n",
    "    rmse = mean_squared_error(te_ta, pred, squared=False)\n",
    "\n",
    "    \n",
    "    return te_ta, pred, rmse, te_fo, te_id, keys"
   ]
  },
  {
   "cell_type": "code",
   "execution_count": 136,
   "metadata": {},
   "outputs": [
    {
     "name": "stderr",
     "output_type": "stream",
     "text": [
      "/home/turner/.local/lib/python3.8/site-packages/ase/calculators/castep.py:1460: UserWarning: Could not load .bands file, eigenvalues and Fermi energy are unknown\n",
      "  warnings.warn('Could not load .bands file, eigenvalues and '\n"
     ]
    },
    {
     "name": "stdout",
     "output_type": "stream",
     "text": [
      "2.725463063649191\n"
     ]
    }
   ],
   "source": [
    "#Rattle - Forces\n",
    "cut = 3.5\n",
    "smo_cut = 1\n",
    "sp_size = 1000\n",
    "ker_exp = 20\n",
    "reg = 1*10**-8\n",
    "\n",
    "te_ta, predicted, rmse, te_fo, te_id, keys = model_accuracy('MD_Distorted', cut, smo_cut, sp_size, ker_exp, reg)\n",
    "print(rmse)"
   ]
  },
  {
   "cell_type": "code",
   "execution_count": 138,
   "metadata": {},
   "outputs": [],
   "source": [
    "df = pd.DataFrame()\n",
    "df['target'] = te_ta\n",
    "df['predicted'] = predicted\n",
    "df['error'] = df['target']  - df['predicted']\n",
    "df.to_csv('MD_raw_data.csv')"
   ]
  },
  {
   "cell_type": "code",
   "execution_count": 116,
   "metadata": {},
   "outputs": [
    {
     "name": "stderr",
     "output_type": "stream",
     "text": [
      "/home/turner/.local/lib/python3.8/site-packages/ase/calculators/castep.py:1460: UserWarning: Could not load .bands file, eigenvalues and Fermi energy are unknown\n",
      "  warnings.warn('Could not load .bands file, eigenvalues and '\n"
     ]
    }
   ],
   "source": [
    "#Extract angles in two ways for all structures and modify ids to be \n",
    "\n",
    "from ase.geometry.analysis import Analysis\n",
    "\n",
    "at_tot = 0\n",
    "si_o_si_id_mas = []\n",
    "si_o_si_ang_mas = []\n",
    "\n",
    "o_si_o_id_mas = []\n",
    "o_si_o_ang_mas = []\n",
    "\n",
    "for i in keys:\n",
    "    struc = ase.io.read('Data/AM300K/'+str(i)+'.castep')\n",
    "    no_at = len(struc.get_positions())\n",
    "    \n",
    "    ana = Analysis(struc)\n",
    "    \n",
    "    si_o_si_id = ana.get_angles('Si','O','Si')\n",
    "    si_o_si_ang = ana.get_values(si_o_si_id)\n",
    "    \n",
    "    o_si_o_id = ana.get_angles('O','Si','O')\n",
    "    o_si_o_ang = ana.get_values(o_si_o_id)\n",
    "    \n",
    "    for l in si_o_si_id[0]:\n",
    "        si_o_si_id_mas.append((l[0]+at_tot,l[1]+at_tot,l[2]+at_tot))\n",
    "        \n",
    "    for l in o_si_o_id[0]:\n",
    "        o_si_o_id_mas.append((l[0]+at_tot,l[1]+at_tot,l[2]+at_tot))\n",
    "    \n",
    "    for l in o_si_o_ang[0]:\n",
    "        o_si_o_ang_mas.append(l)\n",
    "        \n",
    "    for l in si_o_si_ang[0]:\n",
    "        si_o_si_ang_mas.append(l)\n",
    "\n",
    "    at_tot += no_at\n",
    "    \n",
    "    "
   ]
  },
  {
   "cell_type": "code",
   "execution_count": 117,
   "metadata": {},
   "outputs": [],
   "source": [
    "\n",
    "tup_id = {}\n",
    "\n",
    "\n",
    "for i in range(len(o_si_o_id_mas)):\n",
    "    if list(zip(*o_si_o_id_mas))[1][i] in te_id:\n",
    "        tup_id[i] = list(zip(*o_si_o_id_mas))[1][i]\n",
    "        \n",
    "        \n",
    "o_ang_te = np.array(o_si_o_ang_mas)[list(tup_id.keys())] #getting angles from tup ids\n",
    "\n",
    "error = abs(np.array(te_ta) - np.array(predicted))\n",
    "\n",
    "error_map = list(zip(te_id, error))\n",
    "error_out = []\n",
    "\n",
    "\n",
    "for i in list(tup_id.values()):\n",
    "    for l in error_map:\n",
    "        if i in l:\n",
    "            error_out.append(l[1])\n",
    "\n",
    "\n",
    "df = pd.DataFrame()\n",
    "df['angle'] = o_ang_te\n",
    "df['Error'] = error_out\n"
   ]
  },
  {
   "cell_type": "code",
   "execution_count": 119,
   "metadata": {},
   "outputs": [],
   "source": [
    "df.to_csv('AM300K_error_angle_o_si_o.csv')"
   ]
  },
  {
   "cell_type": "code",
   "execution_count": 118,
   "metadata": {},
   "outputs": [
    {
     "data": {
      "text/plain": [
       "<matplotlib.collections.PathCollection at 0x7f7066715a60>"
      ]
     },
     "execution_count": 118,
     "metadata": {},
     "output_type": "execute_result"
    },
    {
     "data": {
      "image/png": "[encoded data removed]",
      "text/plain": [
       "<Figure size 432x288 with 1 Axes>"
      ]
     },
     "metadata": {
      "needs_background": "light"
     },
     "output_type": "display_data"
    }
   ],
   "source": [
    "plt.scatter(o_ang_te, error_out)"
   ]
  },
  {
   "cell_type": "code",
   "execution_count": 88,
   "metadata": {},
   "outputs": [],
   "source": []
  }
 ],
 "metadata": {
  "kernelspec": {
   "display_name": "Python 3",
   "language": "python",
   "name": "python3"
  },
  "language_info": {
   "codemirror_mode": {
    "name": "ipython",
    "version": 3
   },
   "file_extension": ".py",
   "mimetype": "text/x-python",
   "name": "python",
   "nbconvert_exporter": "python",
   "pygments_lexer": "ipython3",
   "version": "3.8.5"
  }
 },
 "nbformat": 4,
 "nbformat_minor": 4
}
