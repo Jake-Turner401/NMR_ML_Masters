{
 "cells": [
  {
   "cell_type": "code",
   "execution_count": 4,
   "metadata": {},
   "outputs": [],
   "source": [
    "import pickle\n",
    "import subprocess"
   ]
  },
  {
   "cell_type": "code",
   "execution_count": 7,
   "metadata": {},
   "outputs": [
    {
     "data": {
      "text/plain": [
       "CompletedProcess(args='castep.serial -d Main_Data/2/2', returncode=0)"
      ]
     },
     "execution_count": 7,
     "metadata": {},
     "output_type": "execute_result"
    }
   ],
   "source": [
    "subprocess.run('castep.serial -d Main_Data/2/2', shell=True)"
   ]
  },
  {
   "cell_type": "code",
   "execution_count": 3,
   "metadata": {},
   "outputs": [
    {
     "data": {
      "text/plain": [
       "{'1': 'ref',\n",
       " 2: 'ICSD-42498',\n",
       " 3: 'ICSD-15386',\n",
       " 4: 'ICSD-156195',\n",
       " 5: 'AMCSD-009625',\n",
       " 6: 'ICSD-1109',\n",
       " 7: 'AMCSD-0020733',\n",
       " 8: 'ICSD-67669',\n",
       " 9: 'ICSD-34899',\n",
       " 10: 'ICSD-16331',\n",
       " 11: 'AMCSD-0017659'}"
      ]
     },
     "execution_count": 3,
     "metadata": {},
     "output_type": "execute_result"
    }
   ],
   "source": [
    "uid_dict = pickle.load(open('uid_index.pkl','rb'))\n",
    "uid_dict"
   ]
  }
 ],
 "metadata": {
  "kernelspec": {
   "display_name": "Python 3",
   "language": "python",
   "name": "python3"
  },
  "language_info": {
   "codemirror_mode": {
    "name": "ipython",
    "version": 3
   },
   "file_extension": ".py",
   "mimetype": "text/x-python",
   "name": "python",
   "nbconvert_exporter": "python",
   "pygments_lexer": "ipython3",
   "version": "3.8.5"
  }
 },
 "nbformat": 4,
 "nbformat_minor": 4
}
