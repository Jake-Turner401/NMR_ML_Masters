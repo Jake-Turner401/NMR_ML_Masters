{
 "cells": [
  {
   "cell_type": "code",
   "execution_count": 7,
   "metadata": {},
   "outputs": [],
   "source": [
    "#Learning polys with different training sets\n",
    "\n",
    "import rascal\n",
    "from rascal.representations import SphericalInvariants as SOAP\n",
    "\n",
    "import ase\n",
    "from ase import io\n",
    "#from ase import atoms\n",
    "\n",
    "import pickle\n",
    "import os\n",
    "import numpy as np\n",
    "import matplotlib.pyplot as plt\n",
    "\n",
    "import soprano\n",
    "from soprano.properties.nmr import *\n",
    "\n",
    "import random\n",
    "\n",
    "import soprano\n",
    "from soprano.properties.nmr import *\n",
    "\n",
    "import sklearn\n",
    "from sklearn.gaussian_process import GaussianProcessRegressor\n",
    "from sklearn.metrics import mean_squared_error\n",
    "from sklearn.metrics import r2_score\n",
    "\n",
    "from numpy.linalg import lstsq\n",
    "\n",
    "import pandas as pd\n",
    "\n",
    "from pandas import DataFrame"
   ]
  },
  {
   "cell_type": "code",
   "execution_count": 4,
   "metadata": {},
   "outputs": [],
   "source": [
    "def keys_grabber(category):\n",
    "    keys = list(pickle.load(open('Data/' + category + '/uid_index.pkl','rb')).keys())\n",
    "    for i in keys:\n",
    "        if not os.path.exists('Data/'+category+'/' + str(i) + '.magres'):\n",
    "            keys.remove(i)\n",
    "    return keys\n",
    "\n",
    "def descriptor(cut, smooth):\n",
    "    HYPERS = {\n",
    "    'soap_type': 'PowerSpectrum',\n",
    "    'interaction_cutoff': cut,\n",
    "    'max_radial': 2,\n",
    "    'max_angular': 6,\n",
    "    'gaussian_sigma_constant': 0.5,\n",
    "    'gaussian_sigma_type': 'Constant',\n",
    "    'cutoff_smooth_width': smooth,\n",
    "    'radial_basis': 'GTO',\n",
    "    'inversion_symmetry': True,\n",
    "    'normalize' : True\n",
    "    }\n",
    "    soap = SOAP(**HYPERS)\n",
    "    return soap\n",
    "\n",
    "\n",
    "def puller(keys, soap, category):\n",
    "    #reading in all structures and creating all spectrums.\n",
    "    for i in keys:\n",
    "        #print(i)\n",
    "        if keys.index(i) == 0:\n",
    "            structure = ase.io.read('Data/' + category +'/'+str(i)+'.magres')\n",
    "            spectrum = soap.transform(structure).get_features(soap)\n",
    "            full_spec = spectrum\n",
    "            iso = MSIsotropy.get(structure)\n",
    "        else:\n",
    "            structure = ase.io.read('Data/' + category +'/'+str(i)+'.magres')\n",
    "            spectrum = soap.transform(structure).get_features(soap)\n",
    "            full_spec = np.concatenate((full_spec,spectrum),axis =0)\n",
    "            iso = np.concatenate((iso,MSIsotropy.get(structure)),axis=0)\n",
    "    return full_spec, iso\n",
    "\n",
    "\n",
    "def splitter(tr_f, no_sparse, full_spec, iso):\n",
    "    #Randomly choosing representative matrix\n",
    "    ids = range(len(full_spec)) #list of all ids\n",
    "    tr_id = random.sample(ids, int(tr_f*len(full_spec)))\n",
    "    sp_id = random.sample(tr_id, no_sparse)\n",
    "\n",
    "    tr_sp = full_spec[tr_id] #training spectrums\n",
    "    sp_sp = full_spec[sp_id] #representative/sparse spectrums\n",
    "\n",
    "    tr_ta = iso[tr_id] #training target\n",
    "    \n",
    "    te_id = list(ids)\n",
    "    for i in tr_id:\n",
    "        te_id.remove(i)\n",
    "    te_sp = full_spec[te_id]\n",
    "    te_ta = iso[te_id]\n",
    "    \n",
    "    return sp_sp, tr_sp, tr_ta, te_sp, te_ta \n",
    "    \n",
    "    \n",
    "def kerneller(to_kernel, sp_sp, ker_exp):\n",
    "    kernel = (to_kernel@sp_sp.T)**ker_exp\n",
    "    return kernel"
   ]
  },
  {
   "cell_type": "code",
   "execution_count": 10,
   "metadata": {},
   "outputs": [],
   "source": [
    "def model_maker(cat, cut, smo_cut, sp_size, ker_exp, reg):\n",
    "    for i in cat:\n",
    "        if cat.index(i) == 0:\n",
    "            keys = keys_grabber(i)\n",
    "            soap = descriptor(cut, smo_cut)\n",
    "            full_spec, iso = puller(keys, soap, i)\n",
    "        else:\n",
    "            keys = keys_grabber(i)\n",
    "            soap = descriptor(cut, smo_cut)\n",
    "            full_spec_t, iso_t = puller(keys, soap, i)\n",
    "            full_spec = np.concatenate((full_spec, full_spec_t))\n",
    "            iso = np.concatenate((iso, iso_t))\n",
    "    sp_sp, tr_sp, tr_ta, te_sp, te_ta = splitter(1, sp_size, full_spec, iso)\n",
    "    \n",
    "    KNM = kerneller(tr_sp, sp_sp, ker_exp)\n",
    "    KMM = kerneller(sp_sp, sp_sp, ker_exp)\n",
    "    res = lstsq(KNM.T @ KNM + reg * KMM, KNM.T @ tr_ta, rcond=None)\n",
    "    c = res[0]\n",
    "    \n",
    "    return c, sp_sp\n",
    "\n",
    "def predictor(cat, cut, smo_cut, ker_exp, reg, c, sp_sp):\n",
    "#     keys = keys_grabber(cat)\n",
    "    keys = [13]\n",
    "    soap = descriptor(cut, smo_cut)\n",
    "    full_spec, iso = puller(keys, soap, cat)\n",
    "    KTM = kerneller(full_spec, sp_sp, ker_exp)\n",
    "    pred = KTM @ c\n",
    "    rmse = mean_squared_error(iso, pred, squared=False)\n",
    "    return iso, pred, rmse\n",
    "\n",
    "def species_splitter(target, predicted):\n",
    "    ids_o = []\n",
    "    ids_si = []\n",
    "\n",
    "    for i in enumerate(target):\n",
    "        if i[1] < 350:\n",
    "            ids_o.append(i[0])\n",
    "        else:\n",
    "            ids_si.append(i[0])\n",
    "            \n",
    "    o_tar = target[ids_o]\n",
    "    o_pred = predicted[ids_o]\n",
    "    \n",
    "    si_tar = target[ids_si]\n",
    "    si_pred = predicted[ids_si]\n",
    "    \n",
    "    return o_tar, si_tar, o_pred, si_pred\n",
    "    "
   ]
  },
  {
   "cell_type": "code",
   "execution_count": 11,
   "metadata": {},
   "outputs": [],
   "source": [
    "#Params - nowusing same for all\n",
    "cut = 3.5\n",
    "smo_cut = 1\n",
    "sp_size = 1000\n",
    "ker_exp = 25\n",
    "reg = 1*10**-8"
   ]
  },
  {
   "cell_type": "code",
   "execution_count": 117,
   "metadata": {},
   "outputs": [
    {
     "name": "stdout",
     "output_type": "stream",
     "text": [
      "5.334089107518412\n"
     ]
    }
   ],
   "source": [
    "c, sp_sp = model_maker(['HypoZeo'],cut,smo_cut, sp_size, ker_exp,reg)\n",
    "tar, pred_r, rmse = predictor('Polymorphs', cut, smo_cut, ker_exp, reg, c, sp_sp)\n",
    "o_tar_r, si_tar_r, o_pred_r, si_pred_r = species_splitter(tar, pred_r)\n",
    "print(rmse)"
   ]
  },
  {
   "cell_type": "code",
   "execution_count": 111,
   "metadata": {},
   "outputs": [],
   "source": [
    "df=pd.DataFrame()\n",
    "df['DFT'] = si_tar_r\n",
    "df['Rattle + HypoZeo'] = si_pred_r"
   ]
  },
  {
   "cell_type": "code",
   "execution_count": 121,
   "metadata": {},
   "outputs": [
    {
     "data": {
      "text/html": [
       "<div>\n",
       "<style scoped>\n",
       "    .dataframe tbody tr th:only-of-type {\n",
       "        vertical-align: middle;\n",
       "    }\n",
       "\n",
       "    .dataframe tbody tr th {\n",
       "        vertical-align: top;\n",
       "    }\n",
       "\n",
       "    .dataframe thead th {\n",
       "        text-align: right;\n",
       "    }\n",
       "</style>\n",
       "<table border=\"1\" class=\"dataframe\">\n",
       "  <thead>\n",
       "    <tr style=\"text-align: right;\">\n",
       "      <th></th>\n",
       "      <th>DFT</th>\n",
       "      <th>Rattle + HypoZeo</th>\n",
       "      <th>Rattle</th>\n",
       "      <th>HypoZeo</th>\n",
       "    </tr>\n",
       "  </thead>\n",
       "  <tbody>\n",
       "    <tr>\n",
       "      <th>0</th>\n",
       "      <td>446.326505</td>\n",
       "      <td>446.532643</td>\n",
       "      <td>446.263127</td>\n",
       "      <td>443.069143</td>\n",
       "    </tr>\n",
       "    <tr>\n",
       "      <th>1</th>\n",
       "      <td>446.326505</td>\n",
       "      <td>446.532643</td>\n",
       "      <td>446.263127</td>\n",
       "      <td>443.069143</td>\n",
       "    </tr>\n",
       "    <tr>\n",
       "      <th>2</th>\n",
       "      <td>447.555825</td>\n",
       "      <td>447.837686</td>\n",
       "      <td>447.999331</td>\n",
       "      <td>444.252621</td>\n",
       "    </tr>\n",
       "    <tr>\n",
       "      <th>3</th>\n",
       "      <td>441.346992</td>\n",
       "      <td>441.615685</td>\n",
       "      <td>441.102705</td>\n",
       "      <td>441.274924</td>\n",
       "    </tr>\n",
       "    <tr>\n",
       "      <th>4</th>\n",
       "      <td>441.346992</td>\n",
       "      <td>441.615685</td>\n",
       "      <td>441.102705</td>\n",
       "      <td>441.274924</td>\n",
       "    </tr>\n",
       "  </tbody>\n",
       "</table>\n",
       "</div>"
      ],
      "text/plain": [
       "          DFT  Rattle + HypoZeo      Rattle     HypoZeo\n",
       "0  446.326505        446.532643  446.263127  443.069143\n",
       "1  446.326505        446.532643  446.263127  443.069143\n",
       "2  447.555825        447.837686  447.999331  444.252621\n",
       "3  441.346992        441.615685  441.102705  441.274924\n",
       "4  441.346992        441.615685  441.102705  441.274924"
      ]
     },
     "execution_count": 121,
     "metadata": {},
     "output_type": "execute_result"
    }
   ],
   "source": [
    "df.to_csv('NMR_spectra_data.csv')\n",
    "df.head()"
   ]
  },
  {
   "cell_type": "code",
   "execution_count": null,
   "metadata": {},
   "outputs": [],
   "source": []
  },
  {
   "cell_type": "code",
   "execution_count": 97,
   "metadata": {},
   "outputs": [],
   "source": [
    "data = np.unique(np.around(np.sort(si_tar_r),2), return_counts=True)\n",
    "data_occ = data[1]/np.ndarray.max(data[1])\n",
    "sigma_ref = np.mean([-111.9,-112.3,-116.2,-116.5,-117.2] + data[0])\n",
    "data_dat = sigma_ref - data[0]\n",
    "data_tup = zip(data_occ, data_dat)"
   ]
  },
  {
   "cell_type": "code",
   "execution_count": 108,
   "metadata": {},
   "outputs": [
    {
     "data": {
      "text/plain": [
       "(-109.0, -120.0)"
      ]
     },
     "execution_count": 108,
     "metadata": {},
     "output_type": "execute_result"
    },
    {
     "data": {
      "image/png": "[encoded data removed]",
      "text/plain": [
       "<Figure size 432x288 with 1 Axes>"
      ]
     },
     "metadata": {
      "needs_background": "light"
     },
     "output_type": "display_data"
    }
   ],
   "source": [
    "from scipy.stats import norm\n",
    "\n",
    "def gauss_plotter(center, height):\n",
    "    x = np.linspace(center-0.2,center+0.2,1000)\n",
    "    y = norm.pdf(x,center,0.05)\n",
    "    y = y/np.ndarray.max(y)*height\n",
    "    return x, y\n",
    "\n",
    "def data_generator(data):\n",
    "    data = np.unique(np.around(np.sort(data),2), return_counts=True)\n",
    "    data_occ = data[1]/np.ndarray.max(data[1])\n",
    "    sigma_ref = np.mean([-111.9,-112.3,-116.2,-116.5,-117.2] + data[0])\n",
    "    data_dat = sigma_ref - data[0]\n",
    "    data_tup = zip(data_occ, data_dat)\n",
    "    return data_tup\n",
    "    \n",
    "\n",
    "exp_dat = [-111.9,-112.3,-116.2,-116.5,-117.2]\n",
    "exp_occ = [1,1,1,0.5,1]\n",
    "exp_tup = zip(exp_occ, exp_dat)\n",
    "\n",
    "for i in exp_tup:\n",
    "    x,y = gauss_plotter(i[1],i[0])\n",
    "    plt.plot(x,y, color='black')\n",
    "\n",
    "for i in data_generator(si_tar_r):\n",
    "    x,y = gauss_plotter(i[1],i[0])\n",
    "    plt.plot(x,y+1.1, color='black')\n",
    "    \n",
    "for i in data_generator(si_pred_r):\n",
    "    x,y = gauss_plotter(i[1],i[0])\n",
    "    plt.plot(x,y+2.2, color='black')\n",
    "    \n",
    "plt.xlim(-109,-120)\n",
    "# plt.ylim(0,1.3)\n",
    "# plt.yticks([])\n"
   ]
  },
  {
   "cell_type": "code",
   "execution_count": 73,
   "metadata": {},
   "outputs": [
    {
     "data": {
      "text/plain": [
       "array([0.13533555, 0.13642258, 0.13751613, 0.13861623, 0.13972288,\n",
       "       0.14083612, 0.14195594, 0.14308238, 0.14421544, 0.14535515,\n",
       "       0.14650151, 0.14765455, 0.14881428, 0.14998071, 0.15115386,\n",
       "       0.15233374, 0.15352038, 0.15471377, 0.15591395, 0.15712091,\n",
       "       0.15833468, 0.15955527, 0.16078269, 0.16201696, 0.16325808,\n",
       "       0.16450607, 0.16576094, 0.16702271, 0.16829139, 0.16956698,\n",
       "       0.17084951, 0.17213897, 0.17343539, 0.17473877, 0.17604912,\n",
       "       0.17736645, 0.17869078, 0.1800221 , 0.18136044, 0.1827058 ,\n",
       "       0.18405819, 0.18541762, 0.18678409, 0.18815762, 0.1895382 ,\n",
       "       0.19092586, 0.19232059, 0.19372241, 0.19513132, 0.19654732,\n",
       "       0.19797042, 0.19940063, 0.20083795, 0.20228239, 0.20373395,\n",
       "       0.20519264, 0.20665846, 0.20813141, 0.20961151, 0.21109874,\n",
       "       0.21259311, 0.21409464, 0.21560331, 0.21711913, 0.2186421 ,\n",
       "       0.22017223, 0.22170951, 0.22325394, 0.22480553, 0.22636428,\n",
       "       0.22793017, 0.22950322, 0.23108342, 0.23267078, 0.23426528,\n",
       "       0.23586692, 0.23747571, 0.23909164, 0.2407147 , 0.2423449 ,\n",
       "       0.24398222, 0.24562667, 0.24727824, 0.24893693, 0.25060272,\n",
       "       0.25227561, 0.2539556 , 0.25564268, 0.25733684, 0.25903808,\n",
       "       0.26074638, 0.26246174, 0.26418415, 0.2659136 , 0.26765008,\n",
       "       0.26939358, 0.27114409, 0.2729016 , 0.2746661 , 0.27643757,\n",
       "       0.27821601, 0.28000141, 0.28179374, 0.283593  , 0.28539917,\n",
       "       0.28721224, 0.2890322 , 0.29085902, 0.2926927 , 0.29453321,\n",
       "       0.29638055, 0.29823469, 0.30009563, 0.30196333, 0.30383778,\n",
       "       0.30571897, 0.30760688, 0.30950148, 0.31140276, 0.31331069,\n",
       "       0.31522526, 0.31714645, 0.31907423, 0.32100858, 0.32294948,\n",
       "       0.3248969 , 0.32685083, 0.32881124, 0.3307781 , 0.3327514 ,\n",
       "       0.3347311 , 0.33671718, 0.33870961, 0.34070837, 0.34271343,\n",
       "       0.34472477, 0.34674235, 0.34876614, 0.35079613, 0.35283227,\n",
       "       0.35487455, 0.35692292, 0.35897736, 0.36103783, 0.36310431,\n",
       "       0.36517677, 0.36725517, 0.36933947, 0.37142965, 0.37352567,\n",
       "       0.37562749, 0.37773509, 0.37984842, 0.38196745, 0.38409215,\n",
       "       0.38622247, 0.38835838, 0.39049984, 0.39264682, 0.39479927,\n",
       "       0.39695715, 0.39912043, 0.40128907, 0.40346302, 0.40564225,\n",
       "       0.40782671, 0.41001636, 0.41221115, 0.41441105, 0.41661602,\n",
       "       0.418826  , 0.42104095, 0.42326083, 0.42548559, 0.42771519,\n",
       "       0.42994958, 0.43218871, 0.43443254, 0.43668102, 0.4389341 ,\n",
       "       0.44119173, 0.44345386, 0.44572045, 0.44799144, 0.45026678,\n",
       "       0.45254642, 0.45483031, 0.4571184 , 0.45941063, 0.46170696,\n",
       "       0.46400732, 0.46631167, 0.46861996, 0.47093211, 0.47324809,\n",
       "       0.47556783, 0.47789129, 0.48021839, 0.48254909, 0.48488333,\n",
       "       0.48722105, 0.48956219, 0.4919067 , 0.4942545 , 0.49660556,\n",
       "       0.49895979, 0.50131715, 0.50367757, 0.506041  , 0.50840736,\n",
       "       0.5107766 , 0.51314865, 0.51552345, 0.51790094, 0.52028106,\n",
       "       0.52266373, 0.5250489 , 0.52743649, 0.52982645, 0.53221871,\n",
       "       0.53461319, 0.53700984, 0.53940859, 0.54180936, 0.5442121 ,\n",
       "       0.54661672, 0.54902317, 0.55143138, 0.55384126, 0.55625276,\n",
       "       0.55866581, 0.56108032, 0.56349624, 0.56591349, 0.56833199,\n",
       "       0.57075169, 0.57317249, 0.57559433, 0.57801714, 0.58044084,\n",
       "       0.58286536, 0.58529063, 0.58771656, 0.59014309, 0.59257013,\n",
       "       0.59499762, 0.59742547, 0.59985362, 0.60228197, 0.60471046,\n",
       "       0.60713901, 0.60956754, 0.61199598, 0.61442424, 0.61685224,\n",
       "       0.61927991, 0.62170716, 0.62413393, 0.62656012, 0.62898565,\n",
       "       0.63141046, 0.63383445, 0.63625755, 0.63867967, 0.64110073,\n",
       "       0.64352065, 0.64593935, 0.64835675, 0.65077276, 0.6531873 ,\n",
       "       0.65560029, 0.65801165, 0.66042128, 0.66282912, 0.66523506,\n",
       "       0.66763904, 0.67004096, 0.67244074, 0.6748383 , 0.67723355,\n",
       "       0.6796264 , 0.68201678, 0.68440459, 0.68678975, 0.68917217,\n",
       "       0.69155177, 0.69392846, 0.69630216, 0.69867277, 0.70104022,\n",
       "       0.70340441, 0.70576526, 0.70812267, 0.71047658, 0.71282688,\n",
       "       0.71517349, 0.71751632, 0.71985528, 0.7221903 , 0.72452127,\n",
       "       0.72684811, 0.72917073, 0.73148905, 0.73380297, 0.73611241,\n",
       "       0.73841728, 0.7407175 , 0.74301296, 0.7453036 , 0.7475893 ,\n",
       "       0.74987   , 0.75214559, 0.754416  , 0.75668113, 0.75894089,\n",
       "       0.76119519, 0.76344396, 0.76568709, 0.7679245 , 0.7701561 ,\n",
       "       0.7723818 , 0.77460151, 0.77681515, 0.77902263, 0.78122386,\n",
       "       0.78341874, 0.7856072 , 0.78778914, 0.78996448, 0.79213312,\n",
       "       0.79429498, 0.79644998, 0.79859801, 0.80073901, 0.80287287,\n",
       "       0.80499951, 0.80711884, 0.80923079, 0.81133524, 0.81343214,\n",
       "       0.81552137, 0.81760286, 0.81967653, 0.82174228, 0.82380003,\n",
       "       0.82584969, 0.82789118, 0.82992441, 0.83194929, 0.83396575,\n",
       "       0.83597369, 0.83797303, 0.83996369, 0.84194557, 0.8439186 ,\n",
       "       0.8458827 , 0.84783777, 0.84978374, 0.85172052, 0.85364803,\n",
       "       0.85556618, 0.8574749 , 0.8593741 , 0.86126369, 0.8631436 ,\n",
       "       0.86501375, 0.86687405, 0.86872443, 0.8705648 , 0.87239508,\n",
       "       0.87421519, 0.87602505, 0.87782459, 0.87961373, 0.88139237,\n",
       "       0.88316046, 0.88491791, 0.88666464, 0.88840057, 0.89012563,\n",
       "       0.89183974, 0.89354283, 0.89523482, 0.89691563, 0.89858519,\n",
       "       0.90024343, 0.90189027, 0.90352563, 0.90514945, 0.90676165,\n",
       "       0.90836216, 0.9099509 , 0.91152781, 0.91309281, 0.91464584,\n",
       "       0.91618682, 0.91771568, 0.91923236, 0.92073678, 0.92222888,\n",
       "       0.92370859, 0.92517584, 0.92663056, 0.92807269, 0.92950217,\n",
       "       0.93091892, 0.93232288, 0.933714  , 0.93509219, 0.93645741,\n",
       "       0.93780958, 0.93914866, 0.94047456, 0.94178724, 0.94308663,\n",
       "       0.94437267, 0.94564531, 0.94690448, 0.94815012, 0.94938219,\n",
       "       0.95060061, 0.95180534, 0.95299632, 0.95417349, 0.95533679,\n",
       "       0.95648619, 0.95762161, 0.958743  , 0.95985033, 0.96094352,\n",
       "       0.96202254, 0.96308733, 0.96413784, 0.96517402, 0.96619583,\n",
       "       0.96720321, 0.96819612, 0.96917451, 0.97013834, 0.97108755,\n",
       "       0.97202211, 0.97294197, 0.97384709, 0.97473743, 0.97561294,\n",
       "       0.97647357, 0.9773193 , 0.97815008, 0.97896587, 0.97976664,\n",
       "       0.98055234, 0.98132293, 0.98207839, 0.98281867, 0.98354374,\n",
       "       0.98425356, 0.98494811, 0.98562735, 0.98629124, 0.98693976,\n",
       "       0.98757287, 0.98819054, 0.98879274, 0.98937946, 0.98995065,\n",
       "       0.99050628, 0.99104635, 0.99157081, 0.99207964, 0.99257282,\n",
       "       0.99305032, 0.99351213, 0.99395821, 0.99438855, 0.99480314,\n",
       "       0.99520193, 0.99558493, 0.99595211, 0.99630345, 0.99663893,\n",
       "       0.99695855, 0.99726227, 0.9975501 , 0.99782202, 0.998078  ,\n",
       "       0.99831805, 0.99854215, 0.99875028, 0.99894244, 0.99911863,\n",
       "       0.99927882, 0.99942301, 0.9995512 , 0.99966338, 0.99975955,\n",
       "       0.99983969, 0.99990381, 0.99995191, 0.99998397, 1.        ,\n",
       "       1.        , 0.99998397, 0.99995191, 0.99990381, 0.99983969,\n",
       "       0.99975955, 0.99966338, 0.9995512 , 0.99942301, 0.99927882,\n",
       "       0.99911863, 0.99894244, 0.99875028, 0.99854215, 0.99831805,\n",
       "       0.998078  , 0.99782202, 0.9975501 , 0.99726227, 0.99695855,\n",
       "       0.99663893, 0.99630345, 0.99595211, 0.99558493, 0.99520193,\n",
       "       0.99480314, 0.99438855, 0.99395821, 0.99351213, 0.99305032,\n",
       "       0.99257282, 0.99207964, 0.99157081, 0.99104635, 0.99050628,\n",
       "       0.98995065, 0.98937946, 0.98879274, 0.98819054, 0.98757287,\n",
       "       0.98693976, 0.98629124, 0.98562735, 0.98494811, 0.98425356,\n",
       "       0.98354374, 0.98281867, 0.98207839, 0.98132293, 0.98055234,\n",
       "       0.97976664, 0.97896587, 0.97815008, 0.9773193 , 0.97647357,\n",
       "       0.97561294, 0.97473743, 0.97384709, 0.97294197, 0.97202211,\n",
       "       0.97108755, 0.97013834, 0.96917451, 0.96819612, 0.96720321,\n",
       "       0.96619583, 0.96517402, 0.96413784, 0.96308733, 0.96202254,\n",
       "       0.96094352, 0.95985033, 0.958743  , 0.95762161, 0.95648619,\n",
       "       0.95533679, 0.95417349, 0.95299632, 0.95180534, 0.95060061,\n",
       "       0.94938219, 0.94815012, 0.94690448, 0.94564531, 0.94437267,\n",
       "       0.94308663, 0.94178724, 0.94047456, 0.93914866, 0.93780958,\n",
       "       0.93645741, 0.93509219, 0.933714  , 0.93232288, 0.93091892,\n",
       "       0.92950217, 0.92807269, 0.92663056, 0.92517584, 0.92370859,\n",
       "       0.92222888, 0.92073678, 0.91923236, 0.91771568, 0.91618682,\n",
       "       0.91464584, 0.91309281, 0.91152781, 0.9099509 , 0.90836216,\n",
       "       0.90676165, 0.90514945, 0.90352563, 0.90189027, 0.90024343,\n",
       "       0.89858519, 0.89691563, 0.89523482, 0.89354283, 0.89183974,\n",
       "       0.89012563, 0.88840057, 0.88666464, 0.88491791, 0.88316046,\n",
       "       0.88139237, 0.87961373, 0.87782459, 0.87602505, 0.87421519,\n",
       "       0.87239508, 0.8705648 , 0.86872443, 0.86687405, 0.86501375,\n",
       "       0.8631436 , 0.86126369, 0.8593741 , 0.8574749 , 0.85556618,\n",
       "       0.85364803, 0.85172052, 0.84978374, 0.84783777, 0.8458827 ,\n",
       "       0.8439186 , 0.84194557, 0.83996369, 0.83797303, 0.83597369,\n",
       "       0.83396575, 0.83194929, 0.82992441, 0.82789118, 0.82584969,\n",
       "       0.82380003, 0.82174228, 0.81967653, 0.81760286, 0.81552137,\n",
       "       0.81343214, 0.81133524, 0.80923079, 0.80711884, 0.80499951,\n",
       "       0.80287287, 0.80073901, 0.79859801, 0.79644998, 0.79429498,\n",
       "       0.79213312, 0.78996448, 0.78778914, 0.7856072 , 0.78341874,\n",
       "       0.78122386, 0.77902263, 0.77681515, 0.77460151, 0.7723818 ,\n",
       "       0.7701561 , 0.7679245 , 0.76568709, 0.76344396, 0.76119519,\n",
       "       0.75894089, 0.75668113, 0.754416  , 0.75214559, 0.74987   ,\n",
       "       0.7475893 , 0.7453036 , 0.74301296, 0.7407175 , 0.73841728,\n",
       "       0.73611241, 0.73380297, 0.73148905, 0.72917073, 0.72684811,\n",
       "       0.72452127, 0.7221903 , 0.71985528, 0.71751632, 0.71517349,\n",
       "       0.71282688, 0.71047658, 0.70812267, 0.70576526, 0.70340441,\n",
       "       0.70104022, 0.69867277, 0.69630216, 0.69392846, 0.69155177,\n",
       "       0.68917217, 0.68678975, 0.68440459, 0.68201678, 0.6796264 ,\n",
       "       0.67723355, 0.6748383 , 0.67244074, 0.67004096, 0.66763904,\n",
       "       0.66523506, 0.66282912, 0.66042128, 0.65801165, 0.65560029,\n",
       "       0.6531873 , 0.65077276, 0.64835675, 0.64593935, 0.64352065,\n",
       "       0.64110073, 0.63867967, 0.63625755, 0.63383445, 0.63141046,\n",
       "       0.62898565, 0.62656012, 0.62413393, 0.62170716, 0.61927991,\n",
       "       0.61685224, 0.61442424, 0.61199598, 0.60956754, 0.60713901,\n",
       "       0.60471046, 0.60228197, 0.59985362, 0.59742547, 0.59499762,\n",
       "       0.59257013, 0.59014309, 0.58771656, 0.58529063, 0.58286536,\n",
       "       0.58044084, 0.57801714, 0.57559433, 0.57317249, 0.57075169,\n",
       "       0.56833199, 0.56591349, 0.56349624, 0.56108032, 0.55866581,\n",
       "       0.55625276, 0.55384126, 0.55143138, 0.54902317, 0.54661672,\n",
       "       0.5442121 , 0.54180936, 0.53940859, 0.53700984, 0.53461319,\n",
       "       0.53221871, 0.52982645, 0.52743649, 0.5250489 , 0.52266373,\n",
       "       0.52028106, 0.51790094, 0.51552345, 0.51314865, 0.5107766 ,\n",
       "       0.50840736, 0.506041  , 0.50367757, 0.50131715, 0.49895979,\n",
       "       0.49660556, 0.4942545 , 0.4919067 , 0.48956219, 0.48722105,\n",
       "       0.48488333, 0.48254909, 0.48021839, 0.47789129, 0.47556783,\n",
       "       0.47324809, 0.47093211, 0.46861996, 0.46631167, 0.46400732,\n",
       "       0.46170696, 0.45941063, 0.4571184 , 0.45483031, 0.45254642,\n",
       "       0.45026678, 0.44799144, 0.44572045, 0.44345386, 0.44119173,\n",
       "       0.4389341 , 0.43668102, 0.43443254, 0.43218871, 0.42994958,\n",
       "       0.42771519, 0.42548559, 0.42326083, 0.42104095, 0.418826  ,\n",
       "       0.41661602, 0.41441105, 0.41221115, 0.41001636, 0.40782671,\n",
       "       0.40564225, 0.40346302, 0.40128907, 0.39912043, 0.39695715,\n",
       "       0.39479927, 0.39264682, 0.39049984, 0.38835838, 0.38622247,\n",
       "       0.38409215, 0.38196745, 0.37984842, 0.37773509, 0.37562749,\n",
       "       0.37352567, 0.37142965, 0.36933947, 0.36725517, 0.36517677,\n",
       "       0.36310431, 0.36103783, 0.35897736, 0.35692292, 0.35487455,\n",
       "       0.35283227, 0.35079613, 0.34876614, 0.34674235, 0.34472477,\n",
       "       0.34271343, 0.34070837, 0.33870961, 0.33671718, 0.3347311 ,\n",
       "       0.3327514 , 0.3307781 , 0.32881124, 0.32685083, 0.3248969 ,\n",
       "       0.32294948, 0.32100858, 0.31907423, 0.31714645, 0.31522526,\n",
       "       0.31331069, 0.31140276, 0.30950148, 0.30760688, 0.30571897,\n",
       "       0.30383778, 0.30196333, 0.30009563, 0.29823469, 0.29638055,\n",
       "       0.29453321, 0.2926927 , 0.29085902, 0.2890322 , 0.28721224,\n",
       "       0.28539917, 0.283593  , 0.28179374, 0.28000141, 0.27821601,\n",
       "       0.27643757, 0.2746661 , 0.2729016 , 0.27114409, 0.26939358,\n",
       "       0.26765008, 0.2659136 , 0.26418415, 0.26246174, 0.26074638,\n",
       "       0.25903808, 0.25733684, 0.25564268, 0.2539556 , 0.25227561,\n",
       "       0.25060272, 0.24893693, 0.24727824, 0.24562667, 0.24398222,\n",
       "       0.2423449 , 0.2407147 , 0.23909164, 0.23747571, 0.23586692,\n",
       "       0.23426528, 0.23267078, 0.23108342, 0.22950322, 0.22793017,\n",
       "       0.22636428, 0.22480553, 0.22325394, 0.22170951, 0.22017223,\n",
       "       0.2186421 , 0.21711913, 0.21560331, 0.21409464, 0.21259311,\n",
       "       0.21109874, 0.20961151, 0.20813141, 0.20665846, 0.20519264,\n",
       "       0.20373395, 0.20228239, 0.20083795, 0.19940063, 0.19797042,\n",
       "       0.19654732, 0.19513132, 0.19372241, 0.19232059, 0.19092586,\n",
       "       0.1895382 , 0.18815762, 0.18678409, 0.18541762, 0.18405819,\n",
       "       0.1827058 , 0.18136044, 0.1800221 , 0.17869078, 0.17736645,\n",
       "       0.17604912, 0.17473877, 0.17343539, 0.17213897, 0.17084951,\n",
       "       0.16956698, 0.16829139, 0.16702271, 0.16576094, 0.16450607,\n",
       "       0.16325808, 0.16201696, 0.16078269, 0.15955527, 0.15833468,\n",
       "       0.15712091, 0.15591395, 0.15471377, 0.15352038, 0.15233374,\n",
       "       0.15115386, 0.14998071, 0.14881428, 0.14765455, 0.14650151,\n",
       "       0.14535515, 0.14421544, 0.14308238, 0.14195594, 0.14083612,\n",
       "       0.13972288, 0.13861623, 0.13751613, 0.13642258, 0.13533555])"
      ]
     },
     "execution_count": 73,
     "metadata": {},
     "output_type": "execute_result"
    }
   ],
   "source": [
    "y"
   ]
  },
  {
   "cell_type": "code",
   "execution_count": null,
   "metadata": {},
   "outputs": [],
   "source": []
  },
  {
   "cell_type": "code",
   "execution_count": null,
   "metadata": {},
   "outputs": [],
   "source": []
  },
  {
   "cell_type": "code",
   "execution_count": 43,
   "metadata": {},
   "outputs": [],
   "source": [
    "df = pd.DataFrame()\n",
    "df['target'] = tar\n",
    "df['predicted'] = pred_r\n",
    "df.to_csv('Rattle_Plus_HypoZeo_wrt_poly_raw.csv')"
   ]
  },
  {
   "cell_type": "code",
   "execution_count": 38,
   "metadata": {},
   "outputs": [
    {
     "name": "stdout",
     "output_type": "stream",
     "text": [
      "0\n",
      "3.1628411168522588\n",
      "1\n",
      "3.4343169054698985\n",
      "2\n",
      "3.1184472066191304\n",
      "3\n",
      "3.263425932826579\n",
      "4\n",
      "2.874815378412984\n",
      "5\n",
      "3.4754731155462526\n",
      "6\n",
      "3.076881534108162\n",
      "7\n",
      "2.9599719234536854\n",
      "8\n",
      "3.063790685213943\n",
      "9\n",
      "2.8612078488192365\n",
      "Overall error = 3.129117164732213\n",
      "Si Error = 0.965619500660123\n",
      "O Error = 3.7699185081529065\n",
      "0\n",
      "3.8770110836088647\n",
      "1\n",
      "3.135421063398818\n",
      "2\n",
      "3.445327423300327\n",
      "3\n",
      "3.3724400977283833\n",
      "4\n",
      "2.9781652743926963\n",
      "5\n",
      "3.0724179593506995\n",
      "6\n",
      "3.1436607118686086\n",
      "7\n",
      "2.99668776471805\n",
      "8\n",
      "3.7799645927259675\n",
      "9\n",
      "3.061488111633503\n",
      "Overall error = 3.286258408272592\n",
      "Si Error = 0.8974246762626225\n",
      "O Error = 3.9731830517166555\n",
      "0\n",
      "3.1806933655553618\n",
      "1\n",
      "2.9048817824419517\n",
      "2\n",
      "3.117567648749317\n",
      "3\n",
      "3.0978299352929173\n",
      "4\n",
      "3.17884657774079\n",
      "5\n",
      "2.7752605532166674\n",
      "6\n",
      "3.330162686008877\n",
      "7\n",
      "2.9559172086632457\n",
      "8\n",
      "2.845803751830204\n",
      "9\n",
      "3.165856942601416\n",
      "Overall error = 3.055282045210075\n",
      "Si Error = 1.1150034201906798\n",
      "O Error = 3.656440777631237\n",
      "0\n",
      "3.869917965369576\n",
      "1\n",
      "3.476130435802202\n",
      "2\n",
      "3.7745755196913082\n",
      "3\n",
      "3.568258965555949\n",
      "4\n",
      "3.356354821576243\n",
      "5\n",
      "3.6669667451301655\n",
      "6\n",
      "3.8665427594162334\n",
      "7\n",
      "3.754691541449832\n",
      "8\n",
      "4.271087273272025\n",
      "9\n",
      "3.7207104334984273\n",
      "Overall error = 3.7325236460761957\n",
      "Si Error = 1.1230768702934069\n",
      "O Error = 4.486896202272809\n",
      "0\n",
      "4.45918783940781\n",
      "1\n",
      "3.8096509941410726\n",
      "2\n",
      "4.803928379228538\n",
      "3\n",
      "4.091985290942006\n",
      "4\n",
      "3.8327858411805424\n",
      "5\n",
      "4.0551507875006285\n",
      "6\n",
      "4.1608554082791205\n",
      "7\n",
      "4.469748104142214\n",
      "8\n",
      "3.821712858459986\n",
      "9\n",
      "3.9340749335100362\n",
      "Overall error = 4.143908043679195\n",
      "Si Error = 1.867292795071156\n",
      "O Error = 4.875069348655687\n",
      "0\n",
      "3.4825645167108408\n",
      "1\n",
      "3.416213019504312\n",
      "2\n",
      "3.5878008147364686\n",
      "3\n",
      "2.948482383756265\n",
      "4\n",
      "3.0776213597692177\n",
      "5\n",
      "3.199623057427568\n",
      "6\n",
      "3.3272601199995107\n",
      "7\n",
      "3.311492773828433\n",
      "8\n",
      "3.644904521046698\n",
      "9\n",
      "3.0668748929833596\n",
      "Overall error = 3.3062837459762675\n",
      "Si Error = 1.1832928242016425\n",
      "O Error = 3.956908696062405\n",
      "0\n",
      "4.798959263765305\n",
      "1\n",
      "4.629809264581243\n",
      "2\n",
      "4.146599838920901\n",
      "3\n",
      "3.5981893323836402\n",
      "4\n",
      "4.5067381714576795\n",
      "5\n",
      "4.201448128166908\n",
      "6\n",
      "4.869071174707588\n",
      "7\n",
      "5.762906276240167\n",
      "8\n",
      "4.3014254635744065\n",
      "9\n",
      "4.379707684014356\n",
      "Overall error = 4.51948545978122\n",
      "Si Error = 1.5653721219749932\n",
      "O Error = 5.387365691315104\n",
      "0\n",
      "3.6690655089168454\n",
      "1\n",
      "3.6550710081257303\n",
      "2\n",
      "3.9686277635222096\n",
      "3\n",
      "3.736800528539921\n",
      "4\n",
      "3.789125936113852\n",
      "5\n",
      "3.6897156240611486\n",
      "6\n",
      "3.5867803248473105\n",
      "7\n",
      "3.7778295454175543\n",
      "8\n",
      "3.8435370248520346\n",
      "9\n",
      "3.6745379976391983\n",
      "Overall error = 3.73910912620358\n",
      "Si Error = 0.9410406834850548\n",
      "O Error = 4.529612523015897\n",
      "0\n",
      "4.305766182934098\n",
      "1\n",
      "3.6200520430261203\n",
      "2\n",
      "4.063546038612114\n",
      "3\n",
      "4.091884926057732\n",
      "4\n",
      "3.8302428289975023\n",
      "5\n",
      "3.828682119836139\n",
      "6\n",
      "3.958342345539454\n",
      "7\n",
      "4.1203401286092785\n",
      "8\n",
      "3.7891626671217526\n",
      "9\n",
      "4.389859787203498\n",
      "Overall error = 3.999787906793769\n",
      "Si Error = 0.8427589530856974\n",
      "O Error = 4.858646460989654\n",
      "0\n",
      "3.870930806592198\n",
      "1\n",
      "3.586678078069637\n",
      "2\n",
      "4.013288613922012\n",
      "3\n",
      "4.8538532863196995\n",
      "4\n",
      "3.917196419067559\n",
      "5\n",
      "4.174852905737165\n",
      "6\n",
      "3.910821833069004\n",
      "7\n",
      "4.6790424967684086\n",
      "8\n",
      "4.090426326228135\n",
      "9\n",
      "3.9311508002254882\n",
      "Overall error = 4.10282415659993\n",
      "Si Error = 1.1020242437941508\n",
      "O Error = 4.958940511290181\n"
     ]
    }
   ],
   "source": [
    "import itertools\n",
    "cats = ['Rattle', 'HypoZeo', 'AM0K', 'AM300K', 'MD_Distorted']\n",
    "combos = list(itertools.combinations(cats,2))\n",
    "over_mas = []\n",
    "si_mas = []\n",
    "o_mas = []\n",
    "\n",
    "\n",
    "for i in combos:\n",
    "    i = list(i)\n",
    "    over = []\n",
    "    si = []\n",
    "    o = []\n",
    "\n",
    "    counter = 0\n",
    "    while counter < 10:\n",
    "\n",
    "        c, sp_sp = model_maker(i,cut,smo_cut, sp_size, ker_exp,reg)\n",
    "        tar, pred_r, rmse = predictor('Polymorphs', cut, smo_cut, ker_exp, reg, c, sp_sp)\n",
    "        o_tar_r, si_tar_r, o_pred_r, si_pred_r = species_splitter(tar, pred_r)\n",
    "        si.append(mean_squared_error(si_tar_r, si_pred_r, squared=False))\n",
    "        o.append(mean_squared_error(o_tar_r, o_pred_r, squared=False))\n",
    "        over.append(rmse)\n",
    "\n",
    "        print(counter)\n",
    "        print(rmse)\n",
    "        counter += 1\n",
    "\n",
    "    print('Overall error = ' + str(sum(over)/len(over)))\n",
    "    print('Si Error = ' + str(sum(si)/len(si)))\n",
    "    print('O Error = ' + str(sum(o)/len(o)))\n",
    "    \n",
    "    over_mas.append(sum(over)/len(over))\n",
    "    si_mas.append(sum(si)/len(si))\n",
    "    o_mas.append(sum(o)/len(o))\n",
    "    "
   ]
  },
  {
   "cell_type": "code",
   "execution_count": 40,
   "metadata": {},
   "outputs": [],
   "source": [
    "df = pd.DataFrame()\n",
    "df['combos'] = combos\n",
    "df['overall error'] = over_mas\n",
    "df['Si error'] = si_mas\n",
    "df['O error'] = o_mas\n",
    "df.head(10)\n",
    "df.to_csv('Learning_Poly_pairs_master.csv')"
   ]
  },
  {
   "cell_type": "code",
   "execution_count": null,
   "metadata": {},
   "outputs": [],
   "source": []
  },
  {
   "cell_type": "code",
   "execution_count": null,
   "metadata": {},
   "outputs": [],
   "source": []
  },
  {
   "cell_type": "code",
   "execution_count": null,
   "metadata": {},
   "outputs": [],
   "source": []
  },
  {
   "cell_type": "code",
   "execution_count": null,
   "metadata": {},
   "outputs": [],
   "source": []
  },
  {
   "cell_type": "code",
   "execution_count": 5,
   "metadata": {},
   "outputs": [],
   "source": [
    "#Rattle\n",
    "c, sp_sp = model_maker(['Rattle'],cut,smo_cut, sp_size, ker_exp,reg)\n",
    "tar, pred_r, rmse = predictor('Polymorphs', cut, smo_cut, ker_exp, reg, c, sp_sp)\n",
    "o_tar_r, si_tar_r, o_pred_r, si_pred_r = species_splitter(tar, pred_r)"
   ]
  },
  {
   "cell_type": "code",
   "execution_count": 11,
   "metadata": {},
   "outputs": [],
   "source": [
    "df1 = pd.DataFrame()\n",
    "df1['O tar'] = o_tar_r\n",
    "df1['O pred'] = o_pred_r\n",
    "df1.to_csv('Rattle_O_wrt_poly.csv')\n",
    "df2 = pd.DataFrame()\n",
    "df2['Si tar'] = si_tar_r\n",
    "df2['Si pred'] = si_pred_r\n",
    "df2.to_csv('Rattle_Si_wrt_poly.csv')"
   ]
  },
  {
   "cell_type": "code",
   "execution_count": 76,
   "metadata": {},
   "outputs": [
    {
     "data": {
      "text/plain": [
       "Text(0.5, 1.0, 'Rattle')"
      ]
     },
     "execution_count": 76,
     "metadata": {},
     "output_type": "execute_result"
    },
    {
     "data": {
      "image/png": "[encoded data removed]",
      "text/plain": [
       "<Figure size 432x288 with 1 Axes>"
      ]
     },
     "metadata": {
      "needs_background": "light"
     },
     "output_type": "display_data"
    }
   ],
   "source": [
    "#O Rattle plot\n",
    "plt.plot([200,240],[200,240], color='grey', linestyle='-')\n",
    "plt.scatter(o_tar_r, o_pred_r, marker='s', color='red')\n",
    "rmse = round(mean_squared_error(o_tar_r, o_pred_r, squared=False),2)\n",
    "plt.xlabel('DFT calculated MS')\n",
    "plt.ylabel('ML predicted MS')\n",
    "plt.annotate('RMSE = ' + str(rmse), xycoords='axes fraction', xy=(0.1,0.85))\n",
    "plt.title('Rattle')"
   ]
  },
  {
   "cell_type": "code",
   "execution_count": 77,
   "metadata": {},
   "outputs": [
    {
     "data": {
      "text/plain": [
       "Text(0.5, 1.0, 'Rattle')"
      ]
     },
     "execution_count": 77,
     "metadata": {},
     "output_type": "execute_result"
    },
    {
     "data": {
      "image/png": "[encoded data removed]",
      "text/plain": [
       "<Figure size 432x288 with 1 Axes>"
      ]
     },
     "metadata": {
      "needs_background": "light"
     },
     "output_type": "display_data"
    }
   ],
   "source": [
    "#Si Rattle plot\n",
    "plt.scatter(si_tar_r, si_pred_r , marker='s', color='navy')\n",
    "plt.plot([430,455], [430,455], color='grey', linestyle='-')\n",
    "rmse = round(mean_squared_error(si_tar_r, si_pred_r, squared=False),2)\n",
    "plt.xlabel('DFT calculated MS')\n",
    "plt.ylabel('ML predicted MS')\n",
    "plt.annotate('RMSE = ' + str(rmse), xycoords='axes fraction', xy=(0.1,0.85))\n",
    "plt.title('Rattle')"
   ]
  },
  {
   "cell_type": "code",
   "execution_count": 7,
   "metadata": {},
   "outputs": [],
   "source": [
    "#HypoZeo\n",
    "c, sp_sp = model_maker(['HypoZeo'],cut,smo_cut, sp_size, ker_exp,reg)\n",
    "tar, pred_r, rmse = predictor('Polymorphs', cut, smo_cut, ker_exp, reg, c, sp_sp)\n",
    "o_tar_h, si_tar_h, o_pred_h, si_pred_h = species_splitter(tar, pred_r)"
   ]
  },
  {
   "cell_type": "code",
   "execution_count": 8,
   "metadata": {},
   "outputs": [],
   "source": [
    "df1 = pd.DataFrame()\n",
    "df1['O tar'] = o_tar_h\n",
    "df1['O pred'] = o_pred_h\n",
    "df1.to_csv('HypoZeo_O_wrt_poly.csv')\n",
    "df2 = pd.DataFrame()\n",
    "df2['Si tar'] = si_tar_h\n",
    "df2['Si pred'] = si_pred_h\n",
    "df2.to_csv('HypoZeo_Si_wrt_poly.csv')"
   ]
  },
  {
   "cell_type": "code",
   "execution_count": 9,
   "metadata": {},
   "outputs": [
    {
     "data": {
      "text/plain": [
       "Text(0.5, 1.0, 'Hypothetical Zeolite')"
      ]
     },
     "execution_count": 9,
     "metadata": {},
     "output_type": "execute_result"
    },
    {
     "data": {
      "image/png": "[encoded data removed]",
      "text/plain": [
       "<Figure size 432x288 with 1 Axes>"
      ]
     },
     "metadata": {
      "needs_background": "light"
     },
     "output_type": "display_data"
    }
   ],
   "source": [
    "#O HypoZeo plot\n",
    "plt.scatter(o_tar_h, o_pred_h, marker='o', color='red')\n",
    "plt.plot([200,240],[200,240], color='grey', linestyle='-')\n",
    "rmse = round(mean_squared_error(o_tar_h, o_pred_h, squared=False),2)\n",
    "plt.xlabel('DFT calculated MS')\n",
    "plt.ylabel('ML predicted MS')\n",
    "plt.annotate('RMSE = ' + str(rmse), xycoords='axes fraction', xy=(0.1,0.85))\n",
    "plt.title('Hypothetical Zeolite')"
   ]
  },
  {
   "cell_type": "code",
   "execution_count": 80,
   "metadata": {},
   "outputs": [
    {
     "data": {
      "text/plain": [
       "Text(0.5, 1.0, 'Hypothetical Zeolite')"
      ]
     },
     "execution_count": 80,
     "metadata": {},
     "output_type": "execute_result"
    },
    {
     "data": {
      "image/png": "[encoded data removed]",
      "text/plain": [
       "<Figure size 432x288 with 1 Axes>"
      ]
     },
     "metadata": {
      "needs_background": "light"
     },
     "output_type": "display_data"
    }
   ],
   "source": [
    "#Si HypoZeo plot\n",
    "plt.scatter(si_tar_h, si_pred_h, marker='o', color='navy')\n",
    "plt.plot([415,455], [415,455], color='grey', linestyle='-')\n",
    "rmse = round(mean_squared_error(si_tar_h, si_pred_h, squared=False),2)\n",
    "plt.xlabel('DFT calculated MS')\n",
    "plt.ylabel('ML predicted MS')\n",
    "plt.annotate('RMSE = ' + str(rmse), xycoords='axes fraction', xy=(0.1,0.85))\n",
    "plt.title('Hypothetical Zeolite')"
   ]
  },
  {
   "cell_type": "code",
   "execution_count": 10,
   "metadata": {},
   "outputs": [],
   "source": [
    "#AM0\n",
    "c, sp_sp = model_maker(['AM0K'],cut,smo_cut, sp_size, ker_exp,reg)\n",
    "tar, pred_r, rmse = predictor('Polymorphs', cut, smo_cut, ker_exp, reg, c, sp_sp)\n",
    "o_tar_a0, si_tar_a0, o_pred_a0, si_pred_a0 = species_splitter(tar, pred_r)"
   ]
  },
  {
   "cell_type": "code",
   "execution_count": 13,
   "metadata": {},
   "outputs": [],
   "source": [
    "df1 = pd.DataFrame()\n",
    "df1['O tar'] = o_tar_a0\n",
    "df1['O pred'] = o_pred_a0\n",
    "df1.to_csv('AM0K_O_wrt_poly.csv')\n",
    "df2 = pd.DataFrame()\n",
    "df2['Si tar'] = si_tar_a0\n",
    "df2['Si pred'] = si_pred_a0\n",
    "df2.to_csv('AM0K_Si_wrt_poly.csv')"
   ]
  },
  {
   "cell_type": "code",
   "execution_count": 82,
   "metadata": {},
   "outputs": [
    {
     "data": {
      "text/plain": [
       "Text(0.5, 1.0, 'AM0K')"
      ]
     },
     "execution_count": 82,
     "metadata": {},
     "output_type": "execute_result"
    },
    {
     "data": {
      "image/png": "[encoded data removed]",
      "text/plain": [
       "<Figure size 432x288 with 1 Axes>"
      ]
     },
     "metadata": {
      "needs_background": "light"
     },
     "output_type": "display_data"
    }
   ],
   "source": [
    "#O AM0K\n",
    "plt.scatter(o_tar_a0, o_pred_a0, marker='^', color='red')\n",
    "plt.plot([200,240],[200,240], color='grey', linestyle='-')\n",
    "rmse = round(mean_squared_error(o_tar_a0, o_pred_a0, squared=False),2)\n",
    "plt.xlabel('DFT calculated MS')\n",
    "plt.ylabel('ML predicted MS')\n",
    "plt.annotate('RMSE = ' + str(rmse), xycoords='axes fraction', xy=(0.1,0.85))\n",
    "plt.title('AM0K')"
   ]
  },
  {
   "cell_type": "code",
   "execution_count": 83,
   "metadata": {},
   "outputs": [
    {
     "data": {
      "text/plain": [
       "Text(0.5, 1.0, 'AM0K')"
      ]
     },
     "execution_count": 83,
     "metadata": {},
     "output_type": "execute_result"
    },
    {
     "data": {
      "image/png": "[encoded data removed]",
      "text/plain": [
       "<Figure size 432x288 with 1 Axes>"
      ]
     },
     "metadata": {
      "needs_background": "light"
     },
     "output_type": "display_data"
    }
   ],
   "source": [
    "#Si AM0K\n",
    "plt.scatter(si_tar_a0, si_pred_a0, marker='^', color='navy')\n",
    "plt.plot([430,455], [430,455], color='grey', linestyle='-')\n",
    "rmse = round(mean_squared_error(si_tar_a0, si_pred_a0, squared=False),2)\n",
    "plt.xlabel('DFT calculated MS')\n",
    "plt.ylabel('ML predicted MS')\n",
    "plt.annotate('RMSE = ' + str(rmse), xycoords='axes fraction', xy=(0.1,0.85))\n",
    "plt.title('AM0K')"
   ]
  },
  {
   "cell_type": "code",
   "execution_count": 14,
   "metadata": {},
   "outputs": [],
   "source": [
    "#AM300K\n",
    "c, sp_sp = model_maker(['AM300K'],cut,smo_cut, sp_size, ker_exp,reg)\n",
    "tar, pred_r, rmse = predictor('Polymorphs', cut, smo_cut, ker_exp, reg, c, sp_sp)\n",
    "o_tar_a3, si_tar_a3, o_pred_a3, si_pred_a3 = species_splitter(tar, pred_r)"
   ]
  },
  {
   "cell_type": "code",
   "execution_count": 16,
   "metadata": {},
   "outputs": [],
   "source": [
    "df1 = pd.DataFrame()\n",
    "df1['O tar'] = o_tar_a3\n",
    "df1['O pred'] = o_pred_a3\n",
    "df1.to_csv('AM3K_O_wrt_poly.csv')\n",
    "df2 = pd.DataFrame()\n",
    "df2['Si tar'] = si_tar_a3\n",
    "df2['Si pred'] = si_pred_a3\n",
    "df2.to_csv('AM3K_Si_wrt_poly.csv')"
   ]
  },
  {
   "cell_type": "code",
   "execution_count": 85,
   "metadata": {},
   "outputs": [
    {
     "data": {
      "text/plain": [
       "Text(0.5, 1.0, 'AM300K')"
      ]
     },
     "execution_count": 85,
     "metadata": {},
     "output_type": "execute_result"
    },
    {
     "data": {
      "image/png": "[encoded data removed]",
      "text/plain": [
       "<Figure size 432x288 with 1 Axes>"
      ]
     },
     "metadata": {
      "needs_background": "light"
     },
     "output_type": "display_data"
    }
   ],
   "source": [
    "#O AM300K\n",
    "plt.scatter(o_tar_a3, o_pred_a3, marker='d', color='red')\n",
    "plt.plot([200,240],[200,240], color='grey', linestyle='-')\n",
    "rmse = round(mean_squared_error(o_tar_a3, o_pred_a3, squared=False),2)\n",
    "plt.xlabel('DFT calculated MS')\n",
    "plt.ylabel('ML predicted MS')\n",
    "plt.annotate('RMSE = ' + str(rmse), xycoords='axes fraction', xy=(0.1,0.85))\n",
    "plt.title('AM300K')"
   ]
  },
  {
   "cell_type": "code",
   "execution_count": 86,
   "metadata": {},
   "outputs": [
    {
     "data": {
      "text/plain": [
       "Text(0.5, 1.0, 'AM300K')"
      ]
     },
     "execution_count": 86,
     "metadata": {},
     "output_type": "execute_result"
    },
    {
     "data": {
      "image/png": "[encoded data removed]",
      "text/plain": [
       "<Figure size 432x288 with 1 Axes>"
      ]
     },
     "metadata": {
      "needs_background": "light"
     },
     "output_type": "display_data"
    }
   ],
   "source": [
    "#Si AM300K\n",
    "plt.scatter(si_tar_a3, si_pred_a3, marker='d', color='navy')\n",
    "plt.plot([430,455], [430,455], color='grey', linestyle='-')\n",
    "rmse = round(mean_squared_error(si_tar_a3, si_pred_a3, squared=False),2)\n",
    "plt.xlabel('DFT calculated MS')\n",
    "plt.ylabel('ML predicted MS')\n",
    "plt.annotate('RMSE = ' + str(rmse), xycoords='axes fraction', xy=(0.1,0.85))\n",
    "plt.title('AM300K')"
   ]
  },
  {
   "cell_type": "code",
   "execution_count": 17,
   "metadata": {},
   "outputs": [],
   "source": [
    "#MD-disorted\n",
    "c, sp_sp = model_maker(['AM300K'],cut,smo_cut, sp_size, ker_exp,reg)\n",
    "tar, pred_r, rmse = predictor('Polymorphs', cut, smo_cut, ker_exp, reg, c, sp_sp)\n",
    "o_tar_m, si_tar_m, o_pred_m, si_pred_m = species_splitter(tar, pred_r)"
   ]
  },
  {
   "cell_type": "code",
   "execution_count": 18,
   "metadata": {},
   "outputs": [],
   "source": [
    "df1 = pd.DataFrame()\n",
    "df1['O tar'] = o_tar_m\n",
    "df1['O pred'] = o_pred_m\n",
    "df1.to_csv('MD_O_wrt_poly.csv')\n",
    "df2 = pd.DataFrame()\n",
    "df2['Si tar'] = si_tar_m\n",
    "df2['Si pred'] = si_pred_m\n",
    "df2.to_csv('MD_Si_wrt_poly.csv')"
   ]
  },
  {
   "cell_type": "code",
   "execution_count": 88,
   "metadata": {},
   "outputs": [
    {
     "data": {
      "text/plain": [
       "Text(0.5, 1.0, 'MD')"
      ]
     },
     "execution_count": 88,
     "metadata": {},
     "output_type": "execute_result"
    },
    {
     "data": {
      "image/png": "[encoded data removed]",
      "text/plain": [
       "<Figure size 432x288 with 1 Axes>"
      ]
     },
     "metadata": {
      "needs_background": "light"
     },
     "output_type": "display_data"
    }
   ],
   "source": [
    "#O MD_Distorted\n",
    "plt.scatter(o_tar_m, o_pred_m, marker='P', color='red')\n",
    "plt.plot([200,240],[200,240], color='grey', linestyle='-')\n",
    "rmse = round(mean_squared_error(o_tar_m, o_pred_m, squared=False),2)\n",
    "plt.xlabel('DFT calculated MS')\n",
    "plt.ylabel('ML predicted MS')\n",
    "plt.annotate('RMSE = ' + str(rmse), xycoords='axes fraction', xy=(0.1,0.85))\n",
    "plt.title('MD')"
   ]
  },
  {
   "cell_type": "code",
   "execution_count": 89,
   "metadata": {},
   "outputs": [
    {
     "data": {
      "text/plain": [
       "Text(0.5, 1.0, 'MD')"
      ]
     },
     "execution_count": 89,
     "metadata": {},
     "output_type": "execute_result"
    },
    {
     "data": {
      "image/png": "[encoded data removed]",
      "text/plain": [
       "<Figure size 432x288 with 1 Axes>"
      ]
     },
     "metadata": {
      "needs_background": "light"
     },
     "output_type": "display_data"
    }
   ],
   "source": [
    "#Si MD_Distorted\n",
    "plt.scatter(si_tar_m, si_pred_m, marker='P', color='navy')\n",
    "plt.plot([430,455], [430,455], color='grey', linestyle='-')\n",
    "rmse = round(mean_squared_error(si_tar_m, si_pred_m, squared=False),2)\n",
    "plt.xlabel('DFT calculated MS')\n",
    "plt.ylabel('ML predicted MS')\n",
    "plt.annotate('RMSE = ' + str(rmse), xycoords='axes fraction', xy=(0.1,0.85))\n",
    "plt.title('MD')"
   ]
  },
  {
   "cell_type": "code",
   "execution_count": 90,
   "metadata": {},
   "outputs": [
    {
     "data": {
      "text/plain": [
       "<matplotlib.collections.PathCollection at 0x7f14a3821850>"
      ]
     },
     "execution_count": 90,
     "metadata": {},
     "output_type": "execute_result"
    },
    {
     "data": {
      "image/png": "[encoded data removed]",
      "text/plain": [
       "<Figure size 432x288 with 1 Axes>"
      ]
     },
     "metadata": {
      "needs_background": "light"
     },
     "output_type": "display_data"
    }
   ],
   "source": [
    "#Plot all O\n",
    "color = 'red'\n",
    "plt.plot([200,240],[200,240], color='grey', linestyle='-')\n",
    "plt.scatter(o_tar_r, o_pred_r, marker='s', color=color) #Rattle\n",
    "plt.scatter(o_tar_h, o_pred_h, marker='o', color=color) #HypoZeo\n",
    "plt.scatter(o_tar_a0, o_pred_a0, marker='^', color=color) #AM0\n",
    "plt.scatter(o_tar_a3, o_pred_a3, marker='d', color=color) #AM3\n",
    "plt.scatter(o_tar_m, o_pred_m, marker='P', color=color) #MD\n",
    "\n"
   ]
  },
  {
   "cell_type": "code",
   "execution_count": 93,
   "metadata": {},
   "outputs": [
    {
     "data": {
      "text/plain": [
       "<matplotlib.collections.PathCollection at 0x7f14a3800bb0>"
      ]
     },
     "execution_count": 93,
     "metadata": {},
     "output_type": "execute_result"
    },
    {
     "data": {
      "image/png": "[encoded data removed]",
      "text/plain": [
       "<Figure size 432x288 with 1 Axes>"
      ]
     },
     "metadata": {
      "needs_background": "light"
     },
     "output_type": "display_data"
    }
   ],
   "source": [
    "#Plot all Si\n",
    "color = 'navy'\n",
    "plt.plot([430,455], [430,455], color='grey', linestyle='-')\n",
    "plt.scatter(si_tar_r, si_pred_r, marker='s', color=color, label='Rattle') #Rattle\n",
    "plt.scatter(si_tar_h, si_pred_h, marker='o', color=color, label='HypoZeo') #HypoZeo\n",
    "plt.scatter(si_tar_a0, si_pred_a0, marker='^', color=color) #AM0\n",
    "plt.scatter(si_tar_a3, si_pred_a3, marker='d', color=color) #AM3\n",
    "plt.scatter(si_tar_m, si_pred_m, marker='P', color=color) #MD\n"
   ]
  },
  {
   "cell_type": "code",
   "execution_count": 4,
   "metadata": {},
   "outputs": [
    {
     "data": {
      "text/html": [
       "<div>\n",
       "<style scoped>\n",
       "    .dataframe tbody tr th:only-of-type {\n",
       "        vertical-align: middle;\n",
       "    }\n",
       "\n",
       "    .dataframe tbody tr th {\n",
       "        vertical-align: top;\n",
       "    }\n",
       "\n",
       "    .dataframe thead th {\n",
       "        text-align: right;\n",
       "    }\n",
       "</style>\n",
       "<table border=\"1\" class=\"dataframe\">\n",
       "  <thead>\n",
       "    <tr style=\"text-align: right;\">\n",
       "      <th></th>\n",
       "      <th>Unnamed: 0</th>\n",
       "      <th>Combos</th>\n",
       "      <th>O Error</th>\n",
       "      <th>Si Error</th>\n",
       "    </tr>\n",
       "  </thead>\n",
       "  <tbody>\n",
       "    <tr>\n",
       "      <th>0</th>\n",
       "      <td>0</td>\n",
       "      <td>Rattle</td>\n",
       "      <td>4.132</td>\n",
       "      <td>1.162</td>\n",
       "    </tr>\n",
       "    <tr>\n",
       "      <th>1</th>\n",
       "      <td>1</td>\n",
       "      <td>HypoZeo</td>\n",
       "      <td>9.299</td>\n",
       "      <td>8.146</td>\n",
       "    </tr>\n",
       "    <tr>\n",
       "      <th>2</th>\n",
       "      <td>2</td>\n",
       "      <td>AM0K</td>\n",
       "      <td>6.416</td>\n",
       "      <td>1.880</td>\n",
       "    </tr>\n",
       "    <tr>\n",
       "      <th>3</th>\n",
       "      <td>3</td>\n",
       "      <td>AM300K</td>\n",
       "      <td>4.763</td>\n",
       "      <td>1.074</td>\n",
       "    </tr>\n",
       "    <tr>\n",
       "      <th>4</th>\n",
       "      <td>4</td>\n",
       "      <td>MD_Distorted</td>\n",
       "      <td>6.539</td>\n",
       "      <td>1.114</td>\n",
       "    </tr>\n",
       "  </tbody>\n",
       "</table>\n",
       "</div>"
      ],
      "text/plain": [
       "   Unnamed: 0        Combos  O Error  Si Error\n",
       "0           0        Rattle    4.132     1.162\n",
       "1           1       HypoZeo    9.299     8.146\n",
       "2           2          AM0K    6.416     1.880\n",
       "3           3        AM300K    4.763     1.074\n",
       "4           4  MD_Distorted    6.539     1.114"
      ]
     },
     "execution_count": 4,
     "metadata": {},
     "output_type": "execute_result"
    }
   ],
   "source": [
    "df = pd.read_csv('learn_polys_singlesets_rmse.csv')\n",
    "df.head()"
   ]
  },
  {
   "cell_type": "code",
   "execution_count": 9,
   "metadata": {},
   "outputs": [
    {
     "data": {
      "text/plain": [
       "Text(0.5, 1.0, 'Error for learning Polys')"
      ]
     },
     "execution_count": 9,
     "metadata": {},
     "output_type": "execute_result"
    },
    {
     "data": {
      "image/png": "[encoded data removed]",
      "text/plain": [
       "<Figure size 432x288 with 1 Axes>"
      ]
     },
     "metadata": {
      "needs_background": "light"
     },
     "output_type": "display_data"
    }
   ],
   "source": [
    "width = 0.35\n",
    "x = np.arange(1,len(df['Combos'])+1)\n",
    "\n",
    "ax = plt.subplot()\n",
    "ax.bar(x-width/2,df['O Error'], width=width, color = 'red')\n",
    "ax.bar(x+width/2,df['Si Error'], width=width, color = 'navy')\n",
    "ax.set_xticks(x)\n",
    "ax.set_xticklabels(df['Combos'])\n",
    "#plt.xticks(rotation=90)\n",
    "plt.title('Error for learning Polys')"
   ]
  }
 ],
 "metadata": {
  "kernelspec": {
   "display_name": "Python 3",
   "language": "python",
   "name": "python3"
  },
  "language_info": {
   "codemirror_mode": {
    "name": "ipython",
    "version": 3
   },
   "file_extension": ".py",
   "mimetype": "text/x-python",
   "name": "python",
   "nbconvert_exporter": "python",
   "pygments_lexer": "ipython3",
   "version": "3.8.5"
  }
 },
 "nbformat": 4,
 "nbformat_minor": 4
}
