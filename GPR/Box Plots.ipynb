{
 "cells": [
  {
   "cell_type": "code",
   "execution_count": 1,
   "metadata": {},
   "outputs": [],
   "source": [
    "import rascal\n",
    "from rascal.representations import SphericalInvariants as SOAP\n",
    "\n",
    "import ase\n",
    "from ase import io\n",
    "#from ase import atoms\n",
    "\n",
    "import pickle\n",
    "import os\n",
    "import numpy as np\n",
    "import matplotlib.pyplot as plt\n",
    "\n",
    "import soprano\n",
    "from soprano.properties.nmr import *\n",
    "\n",
    "import random\n",
    "\n",
    "import soprano\n",
    "from soprano.properties.nmr import *\n",
    "\n",
    "import sklearn\n",
    "from sklearn.gaussian_process import GaussianProcessRegressor\n",
    "from sklearn.metrics import mean_squared_error\n",
    "from sklearn.metrics import r2_score\n",
    "\n",
    "from numpy.linalg import lstsq\n",
    "\n",
    "import pandas as pd\n",
    "from pandas import DataFrame"
   ]
  },
  {
   "cell_type": "code",
   "execution_count": 2,
   "metadata": {},
   "outputs": [],
   "source": [
    "def keys_grabber(category):\n",
    "    keys = list(pickle.load(open('Data/' + category + '/uid_index.pkl','rb')).keys())\n",
    "    for i in keys:\n",
    "        if not os.path.exists('Data/'+category+'/' + str(i) + '.magres'):\n",
    "            keys.remove(i)\n",
    "    return keys\n",
    "\n",
    "def descriptor(cut, smooth):\n",
    "    HYPERS = {\n",
    "    'soap_type': 'PowerSpectrum',\n",
    "    'interaction_cutoff': cut,\n",
    "    'max_radial': 2,\n",
    "    'max_angular': 6,\n",
    "    'gaussian_sigma_constant': 0.5,\n",
    "    'gaussian_sigma_type': 'Constant',\n",
    "    'cutoff_smooth_width': smooth,\n",
    "    'radial_basis': 'GTO',\n",
    "    'inversion_symmetry': True,\n",
    "    'normalize' : True\n",
    "    }\n",
    "    soap = SOAP(**HYPERS)\n",
    "    return soap\n",
    "\n",
    "\n",
    "def puller(keys, soap, category):\n",
    "    #reading in all structures and creating all spectrums.\n",
    "    for i in keys:\n",
    "        #print(i)\n",
    "        if keys.index(i) == 0:\n",
    "            structure = ase.io.read('Data/' + category +'/'+str(i)+'.magres')\n",
    "            spectrum = soap.transform(structure).get_features(soap)\n",
    "            full_spec = spectrum\n",
    "            iso = MSIsotropy.get(structure)\n",
    "        else:\n",
    "            structure = ase.io.read('Data/' + category +'/'+str(i)+'.magres')\n",
    "            spectrum = soap.transform(structure).get_features(soap)\n",
    "            full_spec = np.concatenate((full_spec,spectrum),axis =0)\n",
    "            iso = np.concatenate((iso,MSIsotropy.get(structure)),axis=0)\n",
    "    return full_spec, iso\n",
    "\n",
    "\n",
    "def splitter(tr_f, no_sparse, full_spec, iso):\n",
    "    #Randomly choosing representative matrix\n",
    "    ids = range(len(full_spec)) #list of all ids\n",
    "    tr_id = random.sample(ids, int(tr_f*len(full_spec)))\n",
    "    sp_id = random.sample(tr_id, no_sparse)\n",
    "\n",
    "    tr_sp = full_spec[tr_id] #training spectrums\n",
    "    sp_sp = full_spec[sp_id] #representative/sparse spectrums\n",
    "\n",
    "    tr_ta = iso[tr_id] #training target\n",
    "    \n",
    "    te_id = list(ids)\n",
    "    for i in tr_id:\n",
    "        te_id.remove(i)\n",
    "    te_sp = full_spec[te_id]\n",
    "    te_ta = iso[te_id]\n",
    "    \n",
    "    return sp_sp, tr_sp, tr_ta, te_sp, te_ta \n",
    "    \n",
    "    \n",
    "def kerneller(to_kernel, sp_sp, ker_exp):\n",
    "    kernel = (to_kernel@sp_sp.T)**ker_exp\n",
    "    return kernel\n",
    "\n"
   ]
  },
  {
   "cell_type": "code",
   "execution_count": 3,
   "metadata": {},
   "outputs": [],
   "source": [
    "def model_accuracy(cat, cut, smo_cut, sp_size, ker_exp, reg):\n",
    "\n",
    "    keys = keys_grabber(cat)\n",
    "    soap = descriptor(cut, smo_cut)\n",
    "    full_spec, iso = puller(keys, soap, cat)\n",
    "    \n",
    "    sp_sp, tr_sp, tr_ta, te_sp, te_ta = splitter(0.9, sp_size, full_spec, iso)\n",
    "    \n",
    "    KNM = kerneller(tr_sp, sp_sp, ker_exp)\n",
    "    KMM = kerneller(sp_sp, sp_sp, ker_exp)\n",
    "    KTM = kerneller(te_sp, sp_sp, ker_exp)\n",
    "    res = lstsq(KNM.T @ KNM + reg * KMM, KNM.T @ tr_ta, rcond=None)\n",
    "    c = res[0]\n",
    "    pred = KTM @ c\n",
    "    rmse = mean_squared_error(te_ta, pred, squared=False)\n",
    "\n",
    "    \n",
    "    return te_ta, pred, rmse\n",
    "\n",
    "def species_splitter(target, predicted):\n",
    "    o_tar = []\n",
    "    o_pred = []\n",
    "    si_tar = []\n",
    "    si_pred = []\n",
    "    for i in target:\n",
    "        if i < 350:\n",
    "            o_tar.append(i)\n",
    "        else:\n",
    "            si_tar.append(i)\n",
    "    for i in predicted:\n",
    "        if i < 350:\n",
    "            o_pred.append(i)\n",
    "        else:\n",
    "            si_pred.append(i)\n",
    "    return o_tar, si_tar, o_pred, si_pred\n"
   ]
  },
  {
   "cell_type": "code",
   "execution_count": 4,
   "metadata": {},
   "outputs": [],
   "source": [
    "#Rattle\n",
    "#Do a 10 fold CV then get distribution of errors\n",
    "cat='Rattle'\n",
    "cut = 3.5\n",
    "smo_cut = 1\n",
    "sp_size = 1000\n",
    "ker_exp = 20\n",
    "reg = 1*10**-8\n",
    "counter = 0\n",
    "\n",
    "while counter < 10:\n",
    "    temp_ta, temp_pr, rmse = model_accuracy(cat, cut, smo_cut, sp_size, ker_exp, reg)\n",
    "    if counter == 0:\n",
    "        target_r = temp_ta\n",
    "        predicted_r = temp_pr\n",
    "    else:\n",
    "        target_r = np.concatenate((target_r, temp_ta))\n",
    "        predicted_r = np.concatenate((predicted_r, temp_pr))\n",
    "        \n",
    "    counter += 1\n",
    "    \n",
    "\n",
    "\n",
    "o_tar_r, si_tar_r, o_pred_r, si_pred_r = species_splitter(target_r, predicted_r)\n",
    "\n",
    "df_ro = pd.DataFrame()\n",
    "df_ro['target'] = o_tar_r\n",
    "df_ro['predicted'] = o_pred_r\n",
    "df_ro['error'] = df_ro['predicted'] - df_ro['target']\n",
    "\n",
    "df_rs = pd.DataFrame()\n",
    "df_rs['target'] = si_tar_r\n",
    "df_rs['predicted'] = si_pred_r\n",
    "df_rs['error'] = df_rs['predicted'] - df_rs['target']\n"
   ]
  },
  {
   "cell_type": "code",
   "execution_count": 5,
   "metadata": {},
   "outputs": [],
   "source": [
    "#HypoZeo\n",
    "cut = 4\n",
    "smo_cut = 0.5\n",
    "sp_size = 1000\n",
    "ker_exp = 25\n",
    "reg = 1*10**-8\n",
    "cat = 'HypoZeo'\n",
    "counter = 0\n",
    "\n",
    "\n",
    "while counter < 10:\n",
    "    temp_ta, temp_pr, rmse = model_accuracy(cat, cut, smo_cut, sp_size, ker_exp, reg)\n",
    "    if counter == 0:\n",
    "        target_h = temp_ta\n",
    "        predicted_h = temp_pr\n",
    "    else:\n",
    "        target_h = np.concatenate((target_h, temp_ta))\n",
    "        predicted_h = np.concatenate((predicted_h, temp_pr))\n",
    "        \n",
    "    counter += 1\n",
    "    #print(counter)\n",
    "\n",
    "\n",
    "o_tar_h, si_tar_h, o_pred_h, si_pred_h = species_splitter(target_h, predicted_h)\n",
    "\n",
    "df_ho = pd.DataFrame()\n",
    "df_ho['target'] = o_tar_h\n",
    "df_ho['predicted'] = o_pred_h\n",
    "df_ho['error'] = df_ho['predicted'] - df_ho['target']\n",
    "\n",
    "df_hs = pd.DataFrame()\n",
    "df_hs['target'] = si_tar_h\n",
    "df_hs['predicted'] = si_pred_h\n",
    "df_hs['error'] = df_hs['predicted'] - df_hs['target']"
   ]
  },
  {
   "cell_type": "code",
   "execution_count": 7,
   "metadata": {},
   "outputs": [],
   "source": [
    "#Amorphous - 0K\n",
    "cut = 3.5\n",
    "smo_cut = 1\n",
    "sp_size = 1000\n",
    "ker_exp = 10\n",
    "reg = 1*10**-5\n",
    "cat = 'AM0K'\n",
    "counter = 0\n",
    "\n",
    "while counter < 10:\n",
    "    temp_ta, temp_pr, rmse = model_accuracy(cat, cut, smo_cut, sp_size, ker_exp, reg)\n",
    "    if counter == 0:\n",
    "        target_a = temp_ta\n",
    "        predicted_a = temp_pr\n",
    "    else:\n",
    "        target_a = np.concatenate((target_a, temp_ta))\n",
    "        predicted_a = np.concatenate((predicted_a, temp_pr))\n",
    "        \n",
    "    counter += 1\n",
    "    #print(counter)\n",
    "\n",
    "\n",
    "o_tar_a0, si_tar_a0, o_pred_a0, si_pred_a0 = species_splitter(target_a, predicted_a)\n",
    "\n",
    "df_a0o = pd.DataFrame()\n",
    "df_a0o['target'] = o_tar_a0\n",
    "df_a0o['predicted'] = o_pred_a0\n",
    "df_a0o['error'] = df_a0o['predicted'] - df_a0o['target']\n",
    "\n",
    "df_a0s = pd.DataFrame()\n",
    "df_a0s['target'] = si_tar_a0\n",
    "df_a0s['predicted'] = si_pred_a0\n",
    "df_a0s['error'] = df_a0s['predicted'] - df_a0s['target']"
   ]
  },
  {
   "cell_type": "code",
   "execution_count": 9,
   "metadata": {},
   "outputs": [],
   "source": [
    "#Amorphous- 300K\n",
    "cut = 3.5\n",
    "smo_cut = 1\n",
    "sp_size = 1000\n",
    "ker_exp = 25\n",
    "reg = 1*10**-8\n",
    "cat = 'AM300K'\n",
    "counter = 0\n",
    "\n",
    "while counter < 10:\n",
    "    temp_ta, temp_pr, rmse = model_accuracy(cat, cut, smo_cut, sp_size, ker_exp, reg)\n",
    "    if counter == 0:\n",
    "        target_a = temp_ta\n",
    "        predicted_a = temp_pr\n",
    "    else:\n",
    "        target_a = np.concatenate((target_a, temp_ta))\n",
    "        predicted_a = np.concatenate((predicted_a, temp_pr))\n",
    "        \n",
    "    counter += 1\n",
    "    #print(counter)\n",
    "\n",
    "\n",
    "o_tar_a3, si_tar_a3, o_pred_a3, si_pred_a3 = species_splitter(target_a, predicted_a)\n",
    "\n",
    "df_a3o = pd.DataFrame()\n",
    "df_a3o['target'] = o_tar_a3\n",
    "df_a3o['predicted'] = o_pred_a3\n",
    "df_a3o['error'] = df_a3o['predicted'] - df_a3o['target']\n",
    "\n",
    "df_a3s = pd.DataFrame()\n",
    "df_a3s['target'] = si_tar_a3\n",
    "df_a3s['predicted'] = si_pred_a3\n",
    "df_a3s['error'] = df_a3s['predicted'] - df_a3s['target']"
   ]
  },
  {
   "cell_type": "code",
   "execution_count": 10,
   "metadata": {},
   "outputs": [],
   "source": [
    "#MD - Distorted\n",
    "cut = 3.5\n",
    "smo_cut = 1\n",
    "sp_size = 1000\n",
    "ker_exp = 25\n",
    "reg = 1*10**-8\n",
    "cat = 'MD_Distorted'\n",
    "counter = 0\n",
    "\n",
    "while counter < 10:\n",
    "    temp_ta, temp_pr, rmse = model_accuracy(cat, cut, smo_cut, sp_size, ker_exp, reg)\n",
    "    if counter == 0:\n",
    "        target_a = temp_ta\n",
    "        predicted_a = temp_pr\n",
    "    else:\n",
    "        target_a = np.concatenate((target_a, temp_ta))\n",
    "        predicted_a = np.concatenate((predicted_a, temp_pr))\n",
    "        \n",
    "    counter += 1\n",
    "    #print(counter)\n",
    "\n",
    "\n",
    "o_tar_m, si_tar_m, o_pred_m, si_pred_m = species_splitter(target_a, predicted_a)\n",
    "\n",
    "df_mo = pd.DataFrame()\n",
    "df_mo['target'] = o_tar_m\n",
    "df_mo['predicted'] = o_pred_m\n",
    "df_mo['error'] = df_mo['predicted'] - df_mo['target']\n",
    "\n",
    "df_ms = pd.DataFrame()\n",
    "df_ms['target'] = si_tar_m\n",
    "df_ms['predicted'] = si_pred_m\n",
    "df_ms['error'] = df_ms['predicted'] - df_ms['target']"
   ]
  },
  {
   "cell_type": "code",
   "execution_count": null,
   "metadata": {},
   "outputs": [],
   "source": []
  },
  {
   "cell_type": "code",
   "execution_count": 14,
   "metadata": {},
   "outputs": [
    {
     "data": {
      "text/plain": [
       "Text(0, 0.5, 'Absolute error (ppm)')"
      ]
     },
     "execution_count": 14,
     "metadata": {},
     "output_type": "execute_result"
    },
    {
     "data": {
      "image/png": "[encoded data removed]",
      "text/plain": [
       "<Figure size 432x288 with 1 Axes>"
      ]
     },
     "metadata": {
      "needs_background": "light"
     },
     "output_type": "display_data"
    }
   ],
   "source": [
    "#rattle\n",
    "plt.boxplot(df_ro['error'], positions = [1], labels=['Oxygen'],\n",
    "           sym='s',patch_artist=True, boxprops=dict(facecolor='red'),\n",
    "           flierprops=dict(markeredgecolor='red'))\n",
    "plt.boxplot(df_rs['error'], positions = [2], labels=['Silicon'],\n",
    "           sym='s',patch_artist=True, boxprops=dict(facecolor='navy'),\n",
    "           flierprops=dict(markeredgecolor='navy'))\n",
    "plt.title('Rattle')\n",
    "plt.ylabel('Absolute error (ppm)')"
   ]
  },
  {
   "cell_type": "code",
   "execution_count": 15,
   "metadata": {},
   "outputs": [
    {
     "data": {
      "text/plain": [
       "Text(0, 0.5, 'Absolute error (ppm)')"
      ]
     },
     "execution_count": 15,
     "metadata": {},
     "output_type": "execute_result"
    },
    {
     "data": {
      "image/png": "[encoded data removed]",
      "text/plain": [
       "<Figure size 432x288 with 1 Axes>"
      ]
     },
     "metadata": {
      "needs_background": "light"
     },
     "output_type": "display_data"
    }
   ],
   "source": [
    "#hypozeo\n",
    "plt.boxplot(df_ho['error'], positions = [1], labels=['Oxygen'],\n",
    "           sym='o',patch_artist=True, boxprops=dict(facecolor='red'),\n",
    "           flierprops=dict(markeredgecolor='red'))\n",
    "plt.boxplot(df_hs['error'], positions = [2], labels=['Silicon'],\n",
    "           sym='o',patch_artist=True, boxprops=dict(facecolor='navy'),\n",
    "           flierprops=dict(markeredgecolor='navy'))\n",
    "plt.title('Hypothetical Zeolite')\n",
    "plt.ylabel('Absolute error (ppm)')"
   ]
  },
  {
   "cell_type": "code",
   "execution_count": 12,
   "metadata": {},
   "outputs": [
    {
     "data": {
      "text/plain": [
       "Text(0, 0.5, 'Absolute error (ppm)')"
      ]
     },
     "execution_count": 12,
     "metadata": {},
     "output_type": "execute_result"
    },
    {
     "data": {
      "image/png": "[encoded data removed]",
      "text/plain": [
       "<Figure size 432x288 with 1 Axes>"
      ]
     },
     "metadata": {
      "needs_background": "light"
     },
     "output_type": "display_data"
    }
   ],
   "source": [
    "#amorphous - 0k\n",
    "\n",
    "plt.boxplot(df_a0o['error'], positions = [1], labels=['Oxygen'],\n",
    "           sym='^',patch_artist=True, boxprops=dict(facecolor='red'),\n",
    "           flierprops=dict(markeredgecolor='red'))\n",
    "plt.boxplot(df_a0s['error'], positions = [2], labels=['Silicon'],\n",
    "           sym='^',patch_artist=True, boxprops=dict(facecolor='navy'),\n",
    "           flierprops=dict(markeredgecolor='navy'))\n",
    "\n",
    "plt.title('Amorphous- 0K')\n",
    "plt.ylabel('Absolute error (ppm)')\n",
    "#This could be used to make the point that although mean error outlier may fuck shit up.\n",
    "#Look at why some silicon enviroments are so wrong."
   ]
  },
  {
   "cell_type": "code",
   "execution_count": 16,
   "metadata": {},
   "outputs": [
    {
     "data": {
      "text/plain": [
       "Text(0, 0.5, 'Absolute error (ppm)')"
      ]
     },
     "execution_count": 16,
     "metadata": {},
     "output_type": "execute_result"
    },
    {
     "data": {
      "image/png": "[encoded data removed]",
      "text/plain": [
       "<Figure size 432x288 with 1 Axes>"
      ]
     },
     "metadata": {
      "needs_background": "light"
     },
     "output_type": "display_data"
    }
   ],
   "source": [
    "#Amorphous- 300K\n",
    "\n",
    "plt.boxplot(df_a3o['error'], positions = [1], labels=['Oxygen'],\n",
    "           sym='d',patch_artist=True, boxprops=dict(facecolor='red'),\n",
    "           flierprops=dict(markeredgecolor='red'))\n",
    "plt.boxplot(df_a3s['error'], positions = [2], labels=['Silicon'],\n",
    "           sym='d',patch_artist=True, boxprops=dict(facecolor='navy'),\n",
    "           flierprops=dict(markeredgecolor='navy'))\n",
    "\n",
    "plt.title('Amorphous- 300K')\n",
    "plt.ylabel('Absolute error (ppm)')"
   ]
  },
  {
   "cell_type": "code",
   "execution_count": 17,
   "metadata": {},
   "outputs": [
    {
     "data": {
      "text/plain": [
       "Text(0, 0.5, 'Absolute error (ppm)')"
      ]
     },
     "execution_count": 17,
     "metadata": {},
     "output_type": "execute_result"
    },
    {
     "data": {
      "image/png": "[encoded data removed]",
      "text/plain": [
       "<Figure size 432x288 with 1 Axes>"
      ]
     },
     "metadata": {
      "needs_background": "light"
     },
     "output_type": "display_data"
    }
   ],
   "source": [
    "#MD- distorted\n",
    "\n",
    "plt.boxplot(df_mo['error'], positions = [1], labels=['Oxygen'],\n",
    "           sym='p',patch_artist=True, boxprops=dict(facecolor='red'),\n",
    "           flierprops=dict(markeredgecolor='red'))\n",
    "plt.boxplot(df_ms['error'], positions = [2], labels=['Silicon'],\n",
    "           sym='p',patch_artist=True, boxprops=dict(facecolor='navy'),\n",
    "           flierprops=dict(markeredgecolor='navy'))\n",
    "\n",
    "plt.title('MD - distorted')\n",
    "plt.ylabel('Absolute error (ppm)')"
   ]
  },
  {
   "cell_type": "code",
   "execution_count": null,
   "metadata": {},
   "outputs": [],
   "source": []
  },
  {
   "cell_type": "code",
   "execution_count": null,
   "metadata": {},
   "outputs": [],
   "source": []
  },
  {
   "cell_type": "code",
   "execution_count": 25,
   "metadata": {},
   "outputs": [
    {
     "data": {
      "text/plain": [
       "Text(0, 0.5, 'Absolute error (ppm)')"
      ]
     },
     "execution_count": 25,
     "metadata": {},
     "output_type": "execute_result"
    },
    {
     "data": {
      "image/png": "[encoded data removed]",
      "text/plain": [
       "<Figure size 432x288 with 1 Axes>"
      ]
     },
     "metadata": {
      "needs_background": "light"
     },
     "output_type": "display_data"
    }
   ],
   "source": [
    "df_r = pd.concat([df_rs, df_ro])\n",
    "df_h = pd.concat([df_hs, df_ho])\n",
    "df_a0 = pd.concat([df_a0s, df_a0o])\n",
    "df_a3 = pd.concat([df_a3s, df_a3o])\n",
    "df_m = pd.concat([df_ms, df_mo])\n",
    "\n",
    "plt.boxplot(df_r['error'], positions = [1], labels=['Rattle'],\n",
    "            sym='s')\n",
    "plt.boxplot(df_h['error'], positions = [2], labels=['Hypothetical\\n Zeolite'],\n",
    "            sym='o')\n",
    "plt.boxplot(df_a0['error'], positions = [3], labels=['Amorphous\\n0K'],\n",
    "           sym='^')\n",
    "plt.boxplot(df_a3['error'], positions = [4], labels=['Amorphous\\n300K'],\n",
    "            sym='d')\n",
    "plt.boxplot(df_m['error'], positions = [5], labels=['MD\\nDistorted'],\n",
    "            sym='p')\n",
    "\n",
    "plt.ylabel('Absolute error (ppm)')"
   ]
  },
  {
   "cell_type": "code",
   "execution_count": 26,
   "metadata": {},
   "outputs": [
    {
     "data": {
      "text/plain": [
       "Text(0, 0.5, 'Absolute error (ppm)')"
      ]
     },
     "execution_count": 26,
     "metadata": {},
     "output_type": "execute_result"
    },
    {
     "data": {
      "image/png": "[encoded data removed]",
      "text/plain": [
       "<Figure size 432x288 with 1 Axes>"
      ]
     },
     "metadata": {
      "needs_background": "light"
     },
     "output_type": "display_data"
    }
   ],
   "source": [
    "plt.boxplot(df_r['error'], positions = [1], labels=['Rattle'],\n",
    "            sym='')\n",
    "plt.boxplot(df_h['error'], positions = [2], labels=['Hypothetical\\n Zeolite'],\n",
    "            sym='')\n",
    "plt.boxplot(df_a0['error'], positions = [3], labels=['Amorphous\\n0K'],\n",
    "           sym='')\n",
    "plt.boxplot(df_a3['error'], positions = [4], labels=['Amorphous\\n300K'],\n",
    "            sym='')\n",
    "plt.boxplot(df_m['error'], positions = [5], labels=['MD\\nDistorted'],\n",
    "            sym='')\n",
    "\n",
    "plt.ylabel('Absolute error (ppm)')"
   ]
  }
 ],
 "metadata": {
  "kernelspec": {
   "display_name": "Python 3",
   "language": "python",
   "name": "python3"
  },
  "language_info": {
   "codemirror_mode": {
    "name": "ipython",
    "version": 3
   },
   "file_extension": ".py",
   "mimetype": "text/x-python",
   "name": "python",
   "nbconvert_exporter": "python",
   "pygments_lexer": "ipython3",
   "version": "3.8.5"
  }
 },
 "nbformat": 4,
 "nbformat_minor": 4
}
